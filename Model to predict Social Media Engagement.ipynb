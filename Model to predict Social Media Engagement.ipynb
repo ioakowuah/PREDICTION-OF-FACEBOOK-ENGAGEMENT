{
 "cells": [
  {
   "cell_type": "markdown",
   "metadata": {},
   "source": [
    "# Predicting Social Media Engagement"
   ]
  },
  {
   "cell_type": "code",
   "execution_count": 1,
   "metadata": {},
   "outputs": [],
   "source": [
    "#Data wrangling and visualisation libraries\n",
    "import numpy as np\n",
    "import pandas as pd\n",
    "import seaborn as sns\n",
    "import matplotlib.pyplot as plt\n",
    "from datetime import datetime\n",
    "import warnings\n",
    "warnings.simplefilter(\"ignore\")"
   ]
  },
  {
   "cell_type": "code",
   "execution_count": 2,
   "metadata": {},
   "outputs": [],
   "source": [
    "#Model libraries\n",
    "from xgboost import XGBClassifier\n",
    "from sklearn.naive_bayes import GaussianNB\n",
    "from sklearn.linear_model import LogisticRegression\n",
    "from sklearn.tree import DecisionTreeClassifier\n",
    "from sklearn.ensemble import RandomForestClassifier\n",
    "from sklearn.ensemble import VotingClassifier\n",
    "from sklearn.metrics import roc_curve\n",
    "from sklearn.metrics import classification_report,accuracy_score,confusion_matrix,auc,roc_auc_score,precision_score,recall_score\n",
    "from sklearn.model_selection import cross_val_score\n",
    "from sklearn.model_selection import GridSearchCV\n",
    "from sklearn.base import TransformerMixin\n",
    "from sklearn.preprocessing import LabelEncoder\n",
    "from sklearn.model_selection import train_test_split\n",
    "from imblearn.over_sampling import RandomOverSampler,SMOTE, ADASYN\n",
    "from sklearn.ensemble import VotingClassifier\n",
    "from sklearn.feature_selection import VarianceThreshold\n",
    "from sklearn.preprocessing import StandardScaler"
   ]
  },
  {
   "cell_type": "code",
   "execution_count": 3,
   "metadata": {},
   "outputs": [],
   "source": [
    "#Feature plot libraries\n",
    "from yellowbrick.model_selection import FeatureImportances\n",
    "from xgboost import plot_importance"
   ]
  },
  {
   "cell_type": "markdown",
   "metadata": {},
   "source": [
    "## Importing Dataset "
   ]
  },
  {
   "cell_type": "code",
   "execution_count": 4,
   "metadata": {},
   "outputs": [],
   "source": [
    "#importing data\n",
    "data=pd.read_csv('dataset.csv')"
   ]
  },
  {
   "cell_type": "code",
   "execution_count": 5,
   "metadata": {},
   "outputs": [
    {
     "data": {
      "text/html": [
       "<div>\n",
       "<style scoped>\n",
       "    .dataframe tbody tr th:only-of-type {\n",
       "        vertical-align: middle;\n",
       "    }\n",
       "\n",
       "    .dataframe tbody tr th {\n",
       "        vertical-align: top;\n",
       "    }\n",
       "\n",
       "    .dataframe thead th {\n",
       "        text-align: right;\n",
       "    }\n",
       "</style>\n",
       "<table border=\"1\" class=\"dataframe\">\n",
       "  <thead>\n",
       "    <tr style=\"text-align: right;\">\n",
       "      <th></th>\n",
       "      <th>Presidential_Candidate</th>\n",
       "      <th>Message</th>\n",
       "      <th>Created_Time</th>\n",
       "      <th>Type</th>\n",
       "      <th>Link</th>\n",
       "      <th>story</th>\n",
       "      <th>Likes_Count</th>\n",
       "      <th>Comments_Count</th>\n",
       "      <th>Shares_Count</th>\n",
       "      <th>Engagement</th>\n",
       "    </tr>\n",
       "  </thead>\n",
       "  <tbody>\n",
       "    <tr>\n",
       "      <td>761</td>\n",
       "      <td>Nana Addo Dankwa Akufo-Addo</td>\n",
       "      <td>Video: Campaigning in Atwima Nwabiagya North c...</td>\n",
       "      <td>2016-10-22T14:03:34+0000</td>\n",
       "      <td>video</td>\n",
       "      <td>https://www.facebook.com/nakufoaddo/videos/101...</td>\n",
       "      <td>NaN</td>\n",
       "      <td>4410</td>\n",
       "      <td>171</td>\n",
       "      <td>487</td>\n",
       "      <td>5068</td>\n",
       "    </tr>\n",
       "    <tr>\n",
       "      <td>797</td>\n",
       "      <td>Nana Addo Dankwa Akufo-Addo</td>\n",
       "      <td>NaN</td>\n",
       "      <td>2016-10-18T09:37:54+0000</td>\n",
       "      <td>status</td>\n",
       "      <td>NaN</td>\n",
       "      <td>NaN</td>\n",
       "      <td>913</td>\n",
       "      <td>13</td>\n",
       "      <td>0</td>\n",
       "      <td>926</td>\n",
       "    </tr>\n",
       "    <tr>\n",
       "      <td>2113</td>\n",
       "      <td>John Dramani Mahama</td>\n",
       "      <td>NaN</td>\n",
       "      <td>2016-11-19T16:30:01+0000</td>\n",
       "      <td>photo</td>\n",
       "      <td>https://www.facebook.com/JDMahama/photos/a.477...</td>\n",
       "      <td>John Dramani Mahama added a new photo.</td>\n",
       "      <td>1442</td>\n",
       "      <td>67</td>\n",
       "      <td>95</td>\n",
       "      <td>1604</td>\n",
       "    </tr>\n",
       "    <tr>\n",
       "      <td>2199</td>\n",
       "      <td>John Dramani Mahama</td>\n",
       "      <td>President Mahama at the 71st #UNGA</td>\n",
       "      <td>2016-09-21T15:10:04+0000</td>\n",
       "      <td>video</td>\n",
       "      <td>https://www.facebook.com/JDMahama/videos/13396...</td>\n",
       "      <td>John Dramani Mahama was live.</td>\n",
       "      <td>3913</td>\n",
       "      <td>822</td>\n",
       "      <td>545</td>\n",
       "      <td>5280</td>\n",
       "    </tr>\n",
       "    <tr>\n",
       "      <td>199</td>\n",
       "      <td>Nana Addo Dankwa Akufo-Addo</td>\n",
       "      <td>A 3-day government retreat was held at Peduase...</td>\n",
       "      <td>2017-04-11T18:29:05+0000</td>\n",
       "      <td>photo</td>\n",
       "      <td>https://www.facebook.com/nakufoaddo/photos/a.1...</td>\n",
       "      <td>Nana Addo Dankwa Akufo-Addo added 13 new photo...</td>\n",
       "      <td>5888</td>\n",
       "      <td>164</td>\n",
       "      <td>515</td>\n",
       "      <td>6567</td>\n",
       "    </tr>\n",
       "  </tbody>\n",
       "</table>\n",
       "</div>"
      ],
      "text/plain": [
       "           Presidential_Candidate  \\\n",
       "761   Nana Addo Dankwa Akufo-Addo   \n",
       "797   Nana Addo Dankwa Akufo-Addo   \n",
       "2113          John Dramani Mahama   \n",
       "2199          John Dramani Mahama   \n",
       "199   Nana Addo Dankwa Akufo-Addo   \n",
       "\n",
       "                                                Message  \\\n",
       "761   Video: Campaigning in Atwima Nwabiagya North c...   \n",
       "797                                                 NaN   \n",
       "2113                                                NaN   \n",
       "2199                 President Mahama at the 71st #UNGA   \n",
       "199   A 3-day government retreat was held at Peduase...   \n",
       "\n",
       "                  Created_Time    Type  \\\n",
       "761   2016-10-22T14:03:34+0000   video   \n",
       "797   2016-10-18T09:37:54+0000  status   \n",
       "2113  2016-11-19T16:30:01+0000   photo   \n",
       "2199  2016-09-21T15:10:04+0000   video   \n",
       "199   2017-04-11T18:29:05+0000   photo   \n",
       "\n",
       "                                                   Link  \\\n",
       "761   https://www.facebook.com/nakufoaddo/videos/101...   \n",
       "797                                                 NaN   \n",
       "2113  https://www.facebook.com/JDMahama/photos/a.477...   \n",
       "2199  https://www.facebook.com/JDMahama/videos/13396...   \n",
       "199   https://www.facebook.com/nakufoaddo/photos/a.1...   \n",
       "\n",
       "                                                  story  Likes_Count  \\\n",
       "761                                                 NaN         4410   \n",
       "797                                                 NaN          913   \n",
       "2113             John Dramani Mahama added a new photo.         1442   \n",
       "2199                      John Dramani Mahama was live.         3913   \n",
       "199   Nana Addo Dankwa Akufo-Addo added 13 new photo...         5888   \n",
       "\n",
       "      Comments_Count  Shares_Count  Engagement  \n",
       "761              171           487        5068  \n",
       "797               13             0         926  \n",
       "2113              67            95        1604  \n",
       "2199             822           545        5280  \n",
       "199              164           515        6567  "
      ]
     },
     "execution_count": 5,
     "metadata": {},
     "output_type": "execute_result"
    }
   ],
   "source": [
    "#Overview of dataset\n",
    "data.sample(5)"
   ]
  },
  {
   "cell_type": "code",
   "execution_count": 6,
   "metadata": {},
   "outputs": [
    {
     "data": {
      "text/html": [
       "<div>\n",
       "<style scoped>\n",
       "    .dataframe tbody tr th:only-of-type {\n",
       "        vertical-align: middle;\n",
       "    }\n",
       "\n",
       "    .dataframe tbody tr th {\n",
       "        vertical-align: top;\n",
       "    }\n",
       "\n",
       "    .dataframe thead th {\n",
       "        text-align: right;\n",
       "    }\n",
       "</style>\n",
       "<table border=\"1\" class=\"dataframe\">\n",
       "  <thead>\n",
       "    <tr style=\"text-align: right;\">\n",
       "      <th></th>\n",
       "      <th>Likes_Count</th>\n",
       "      <th>Comments_Count</th>\n",
       "      <th>Shares_Count</th>\n",
       "      <th>Engagement</th>\n",
       "    </tr>\n",
       "  </thead>\n",
       "  <tbody>\n",
       "    <tr>\n",
       "      <td>count</td>\n",
       "      <td>2941.000000</td>\n",
       "      <td>2941.000000</td>\n",
       "      <td>2941.000000</td>\n",
       "      <td>2941.000000</td>\n",
       "    </tr>\n",
       "    <tr>\n",
       "      <td>mean</td>\n",
       "      <td>4691.839170</td>\n",
       "      <td>384.531792</td>\n",
       "      <td>326.458007</td>\n",
       "      <td>5402.828970</td>\n",
       "    </tr>\n",
       "    <tr>\n",
       "      <td>std</td>\n",
       "      <td>6406.280389</td>\n",
       "      <td>651.221690</td>\n",
       "      <td>569.724163</td>\n",
       "      <td>7113.919245</td>\n",
       "    </tr>\n",
       "    <tr>\n",
       "      <td>min</td>\n",
       "      <td>6.000000</td>\n",
       "      <td>0.000000</td>\n",
       "      <td>0.000000</td>\n",
       "      <td>42.000000</td>\n",
       "    </tr>\n",
       "    <tr>\n",
       "      <td>25%</td>\n",
       "      <td>1120.000000</td>\n",
       "      <td>65.000000</td>\n",
       "      <td>67.000000</td>\n",
       "      <td>1358.000000</td>\n",
       "    </tr>\n",
       "    <tr>\n",
       "      <td>50%</td>\n",
       "      <td>2626.000000</td>\n",
       "      <td>155.000000</td>\n",
       "      <td>162.000000</td>\n",
       "      <td>3078.000000</td>\n",
       "    </tr>\n",
       "    <tr>\n",
       "      <td>75%</td>\n",
       "      <td>5394.000000</td>\n",
       "      <td>409.000000</td>\n",
       "      <td>374.000000</td>\n",
       "      <td>6429.000000</td>\n",
       "    </tr>\n",
       "    <tr>\n",
       "      <td>max</td>\n",
       "      <td>85438.000000</td>\n",
       "      <td>9058.000000</td>\n",
       "      <td>13132.000000</td>\n",
       "      <td>96022.000000</td>\n",
       "    </tr>\n",
       "  </tbody>\n",
       "</table>\n",
       "</div>"
      ],
      "text/plain": [
       "        Likes_Count  Comments_Count  Shares_Count    Engagement\n",
       "count   2941.000000     2941.000000   2941.000000   2941.000000\n",
       "mean    4691.839170      384.531792    326.458007   5402.828970\n",
       "std     6406.280389      651.221690    569.724163   7113.919245\n",
       "min        6.000000        0.000000      0.000000     42.000000\n",
       "25%     1120.000000       65.000000     67.000000   1358.000000\n",
       "50%     2626.000000      155.000000    162.000000   3078.000000\n",
       "75%     5394.000000      409.000000    374.000000   6429.000000\n",
       "max    85438.000000     9058.000000  13132.000000  96022.000000"
      ]
     },
     "execution_count": 6,
     "metadata": {},
     "output_type": "execute_result"
    }
   ],
   "source": [
    "#Summary\n",
    "data.describe()"
   ]
  },
  {
   "cell_type": "code",
   "execution_count": 7,
   "metadata": {},
   "outputs": [
    {
     "data": {
      "text/plain": [
       "(2941, 10)"
      ]
     },
     "execution_count": 7,
     "metadata": {},
     "output_type": "execute_result"
    }
   ],
   "source": [
    "#Shape of data\n",
    "data.shape"
   ]
  },
  {
   "cell_type": "code",
   "execution_count": 8,
   "metadata": {},
   "outputs": [
    {
     "name": "stdout",
     "output_type": "stream",
     "text": [
      "<class 'pandas.core.frame.DataFrame'>\n",
      "RangeIndex: 2941 entries, 0 to 2940\n",
      "Data columns (total 10 columns):\n",
      "Presidential_Candidate    2941 non-null object\n",
      "Message                   2394 non-null object\n",
      "Created_Time              2941 non-null object\n",
      "Type                      2941 non-null object\n",
      "Link                      2375 non-null object\n",
      "story                     1432 non-null object\n",
      "Likes_Count               2941 non-null int64\n",
      "Comments_Count            2941 non-null int64\n",
      "Shares_Count              2941 non-null int64\n",
      "Engagement                2941 non-null int64\n",
      "dtypes: int64(4), object(6)\n",
      "memory usage: 229.9+ KB\n"
     ]
    }
   ],
   "source": [
    "#Data type of variables\n",
    "data.info()"
   ]
  },
  {
   "cell_type": "markdown",
   "metadata": {},
   "source": [
    "## Data Preprocessing "
   ]
  },
  {
   "cell_type": "code",
   "execution_count": 9,
   "metadata": {},
   "outputs": [],
   "source": [
    "#Dropping Likes_Count, Comments_Count,Shares_Count\n",
    "data=data.drop(['Likes_Count','Comments_Count','Shares_Count','Message','story','Link'], axis=1)"
   ]
  },
  {
   "cell_type": "code",
   "execution_count": 10,
   "metadata": {},
   "outputs": [
    {
     "data": {
      "text/html": [
       "<div>\n",
       "<style scoped>\n",
       "    .dataframe tbody tr th:only-of-type {\n",
       "        vertical-align: middle;\n",
       "    }\n",
       "\n",
       "    .dataframe tbody tr th {\n",
       "        vertical-align: top;\n",
       "    }\n",
       "\n",
       "    .dataframe thead th {\n",
       "        text-align: right;\n",
       "    }\n",
       "</style>\n",
       "<table border=\"1\" class=\"dataframe\">\n",
       "  <thead>\n",
       "    <tr style=\"text-align: right;\">\n",
       "      <th></th>\n",
       "      <th>Presidential_Candidate</th>\n",
       "      <th>Created_Time</th>\n",
       "      <th>Type</th>\n",
       "      <th>Engagement</th>\n",
       "    </tr>\n",
       "  </thead>\n",
       "  <tbody>\n",
       "    <tr>\n",
       "      <td>0</td>\n",
       "      <td>Nana Addo Dankwa Akufo-Addo</td>\n",
       "      <td>2017-06-30T20:20:00+0000</td>\n",
       "      <td>link</td>\n",
       "      <td>2581</td>\n",
       "    </tr>\n",
       "    <tr>\n",
       "      <td>1</td>\n",
       "      <td>Nana Addo Dankwa Akufo-Addo</td>\n",
       "      <td>2017-06-30T18:04:02+0000</td>\n",
       "      <td>photo</td>\n",
       "      <td>5627</td>\n",
       "    </tr>\n",
       "    <tr>\n",
       "      <td>2</td>\n",
       "      <td>Nana Addo Dankwa Akufo-Addo</td>\n",
       "      <td>2017-06-30T07:55:38+0000</td>\n",
       "      <td>status</td>\n",
       "      <td>5729</td>\n",
       "    </tr>\n",
       "    <tr>\n",
       "      <td>3</td>\n",
       "      <td>Nana Addo Dankwa Akufo-Addo</td>\n",
       "      <td>2017-06-29T14:45:54+0000</td>\n",
       "      <td>photo</td>\n",
       "      <td>4936</td>\n",
       "    </tr>\n",
       "    <tr>\n",
       "      <td>4</td>\n",
       "      <td>Nana Addo Dankwa Akufo-Addo</td>\n",
       "      <td>2017-06-29T12:15:15+0000</td>\n",
       "      <td>link</td>\n",
       "      <td>4802</td>\n",
       "    </tr>\n",
       "  </tbody>\n",
       "</table>\n",
       "</div>"
      ],
      "text/plain": [
       "        Presidential_Candidate              Created_Time    Type  Engagement\n",
       "0  Nana Addo Dankwa Akufo-Addo  2017-06-30T20:20:00+0000    link        2581\n",
       "1  Nana Addo Dankwa Akufo-Addo  2017-06-30T18:04:02+0000   photo        5627\n",
       "2  Nana Addo Dankwa Akufo-Addo  2017-06-30T07:55:38+0000  status        5729\n",
       "3  Nana Addo Dankwa Akufo-Addo  2017-06-29T14:45:54+0000   photo        4936\n",
       "4  Nana Addo Dankwa Akufo-Addo  2017-06-29T12:15:15+0000    link        4802"
      ]
     },
     "execution_count": 10,
     "metadata": {},
     "output_type": "execute_result"
    }
   ],
   "source": [
    "data.head()"
   ]
  },
  {
   "cell_type": "code",
   "execution_count": 11,
   "metadata": {},
   "outputs": [],
   "source": [
    "#Creating Engagement_Level Column\n",
    "#This is based on 50% Quartile on Engagement\n",
    "def age_groups(series):\n",
    "    if series <= 3078:\n",
    "        return 0\n",
    "    elif series > 3078:\n",
    "        return 1\n",
    "\n",
    "data['Engagement_Level'] = data['Engagement'].apply(age_groups)"
   ]
  },
  {
   "cell_type": "code",
   "execution_count": 12,
   "metadata": {},
   "outputs": [
    {
     "data": {
      "text/html": [
       "<div>\n",
       "<style scoped>\n",
       "    .dataframe tbody tr th:only-of-type {\n",
       "        vertical-align: middle;\n",
       "    }\n",
       "\n",
       "    .dataframe tbody tr th {\n",
       "        vertical-align: top;\n",
       "    }\n",
       "\n",
       "    .dataframe thead th {\n",
       "        text-align: right;\n",
       "    }\n",
       "</style>\n",
       "<table border=\"1\" class=\"dataframe\">\n",
       "  <thead>\n",
       "    <tr style=\"text-align: right;\">\n",
       "      <th></th>\n",
       "      <th>Presidential_Candidate</th>\n",
       "      <th>Created_Time</th>\n",
       "      <th>Type</th>\n",
       "      <th>Engagement</th>\n",
       "      <th>Engagement_Level</th>\n",
       "    </tr>\n",
       "  </thead>\n",
       "  <tbody>\n",
       "    <tr>\n",
       "      <td>0</td>\n",
       "      <td>Nana Addo Dankwa Akufo-Addo</td>\n",
       "      <td>2017-06-30T20:20:00+0000</td>\n",
       "      <td>link</td>\n",
       "      <td>2581</td>\n",
       "      <td>0</td>\n",
       "    </tr>\n",
       "    <tr>\n",
       "      <td>1</td>\n",
       "      <td>Nana Addo Dankwa Akufo-Addo</td>\n",
       "      <td>2017-06-30T18:04:02+0000</td>\n",
       "      <td>photo</td>\n",
       "      <td>5627</td>\n",
       "      <td>1</td>\n",
       "    </tr>\n",
       "    <tr>\n",
       "      <td>2</td>\n",
       "      <td>Nana Addo Dankwa Akufo-Addo</td>\n",
       "      <td>2017-06-30T07:55:38+0000</td>\n",
       "      <td>status</td>\n",
       "      <td>5729</td>\n",
       "      <td>1</td>\n",
       "    </tr>\n",
       "    <tr>\n",
       "      <td>3</td>\n",
       "      <td>Nana Addo Dankwa Akufo-Addo</td>\n",
       "      <td>2017-06-29T14:45:54+0000</td>\n",
       "      <td>photo</td>\n",
       "      <td>4936</td>\n",
       "      <td>1</td>\n",
       "    </tr>\n",
       "    <tr>\n",
       "      <td>4</td>\n",
       "      <td>Nana Addo Dankwa Akufo-Addo</td>\n",
       "      <td>2017-06-29T12:15:15+0000</td>\n",
       "      <td>link</td>\n",
       "      <td>4802</td>\n",
       "      <td>1</td>\n",
       "    </tr>\n",
       "  </tbody>\n",
       "</table>\n",
       "</div>"
      ],
      "text/plain": [
       "        Presidential_Candidate              Created_Time    Type  Engagement  \\\n",
       "0  Nana Addo Dankwa Akufo-Addo  2017-06-30T20:20:00+0000    link        2581   \n",
       "1  Nana Addo Dankwa Akufo-Addo  2017-06-30T18:04:02+0000   photo        5627   \n",
       "2  Nana Addo Dankwa Akufo-Addo  2017-06-30T07:55:38+0000  status        5729   \n",
       "3  Nana Addo Dankwa Akufo-Addo  2017-06-29T14:45:54+0000   photo        4936   \n",
       "4  Nana Addo Dankwa Akufo-Addo  2017-06-29T12:15:15+0000    link        4802   \n",
       "\n",
       "   Engagement_Level  \n",
       "0                 0  \n",
       "1                 1  \n",
       "2                 1  \n",
       "3                 1  \n",
       "4                 1  "
      ]
     },
     "execution_count": 12,
     "metadata": {},
     "output_type": "execute_result"
    }
   ],
   "source": [
    "data.head()"
   ]
  },
  {
   "cell_type": "code",
   "execution_count": 13,
   "metadata": {},
   "outputs": [],
   "source": [
    "data['Created_Time']= pd.to_datetime(data['Created_Time'])\n",
    "data['year'] = data['Created_Time'].dt.year\n",
    "data['month'] = data['Created_Time'].dt.month\n",
    "data['day'] = data['Created_Time'].dt.day\n",
    "data['hour'] = data['Created_Time'].dt.hour\n",
    "data['minute'] = data['Created_Time'].dt.minute\n",
    "data['weekday'] = data['Created_Time'].dt.weekday\n",
    "data['day_name'] = data['Created_Time'].dt.weekday_name\n",
    "data['dayofyear'] = data['Created_Time'].dt.dayofyear\n",
    "data['quarter'] = data['Created_Time'].dt.quarter\n",
    "data['month_name'] = data['Created_Time'].dt.month_name(locale = 'English')"
   ]
  },
  {
   "cell_type": "code",
   "execution_count": 14,
   "metadata": {},
   "outputs": [],
   "source": [
    "#Creating Engagement_Level Column\n",
    "#This is based on 50% Quartile on Engagement\n",
    "def age(series):\n",
    "    if series <= 11:\n",
    "        return \"AM\"\n",
    "    elif series > 11:\n",
    "        return \"PM\"\n",
    "\n",
    "data['time_period'] = data['hour'].apply(age)"
   ]
  },
  {
   "cell_type": "code",
   "execution_count": 15,
   "metadata": {},
   "outputs": [],
   "source": [
    "#Creating Engagement_Level Column\n",
    "#This is based on 50% Quartile on Engagement\n",
    "def ages(series):\n",
    "    if series <= 2016:\n",
    "        a= 2016 - series\n",
    "        return a\n",
    "    elif series > 2016:\n",
    "        a= 2020 - series\n",
    "        return a\n",
    "\n",
    "data['year_vote'] = data['year'].apply(ages)"
   ]
  },
  {
   "cell_type": "code",
   "execution_count": 16,
   "metadata": {
    "scrolled": true
   },
   "outputs": [
    {
     "data": {
      "text/html": [
       "<div>\n",
       "<style scoped>\n",
       "    .dataframe tbody tr th:only-of-type {\n",
       "        vertical-align: middle;\n",
       "    }\n",
       "\n",
       "    .dataframe tbody tr th {\n",
       "        vertical-align: top;\n",
       "    }\n",
       "\n",
       "    .dataframe thead th {\n",
       "        text-align: right;\n",
       "    }\n",
       "</style>\n",
       "<table border=\"1\" class=\"dataframe\">\n",
       "  <thead>\n",
       "    <tr style=\"text-align: right;\">\n",
       "      <th></th>\n",
       "      <th>Engagement</th>\n",
       "      <th>Engagement_Level</th>\n",
       "      <th>year</th>\n",
       "      <th>month</th>\n",
       "      <th>day</th>\n",
       "      <th>hour</th>\n",
       "      <th>minute</th>\n",
       "      <th>weekday</th>\n",
       "      <th>dayofyear</th>\n",
       "      <th>quarter</th>\n",
       "    </tr>\n",
       "    <tr>\n",
       "      <th>year_vote</th>\n",
       "      <th></th>\n",
       "      <th></th>\n",
       "      <th></th>\n",
       "      <th></th>\n",
       "      <th></th>\n",
       "      <th></th>\n",
       "      <th></th>\n",
       "      <th></th>\n",
       "      <th></th>\n",
       "      <th></th>\n",
       "    </tr>\n",
       "  </thead>\n",
       "  <tbody>\n",
       "    <tr>\n",
       "      <td>0</td>\n",
       "      <td>9021318</td>\n",
       "      <td>817</td>\n",
       "      <td>2322432</td>\n",
       "      <td>9933</td>\n",
       "      <td>18613</td>\n",
       "      <td>15219</td>\n",
       "      <td>27017</td>\n",
       "      <td>3279</td>\n",
       "      <td>286025</td>\n",
       "      <td>3689</td>\n",
       "    </tr>\n",
       "    <tr>\n",
       "      <td>1</td>\n",
       "      <td>1624511</td>\n",
       "      <td>164</td>\n",
       "      <td>884585</td>\n",
       "      <td>3165</td>\n",
       "      <td>6594</td>\n",
       "      <td>6016</td>\n",
       "      <td>11881</td>\n",
       "      <td>1235</td>\n",
       "      <td>89166</td>\n",
       "      <td>1191</td>\n",
       "    </tr>\n",
       "    <tr>\n",
       "      <td>2</td>\n",
       "      <td>1100881</td>\n",
       "      <td>86</td>\n",
       "      <td>1025126</td>\n",
       "      <td>3179</td>\n",
       "      <td>7977</td>\n",
       "      <td>7160</td>\n",
       "      <td>15004</td>\n",
       "      <td>1277</td>\n",
       "      <td>88744</td>\n",
       "      <td>1239</td>\n",
       "    </tr>\n",
       "    <tr>\n",
       "      <td>3</td>\n",
       "      <td>4143010</td>\n",
       "      <td>403</td>\n",
       "      <td>1695057</td>\n",
       "      <td>3817</td>\n",
       "      <td>12720</td>\n",
       "      <td>11364</td>\n",
       "      <td>23432</td>\n",
       "      <td>2300</td>\n",
       "      <td>102489</td>\n",
       "      <td>1567</td>\n",
       "    </tr>\n",
       "  </tbody>\n",
       "</table>\n",
       "</div>"
      ],
      "text/plain": [
       "           Engagement  Engagement_Level     year  month    day   hour  minute  \\\n",
       "year_vote                                                                       \n",
       "0             9021318               817  2322432   9933  18613  15219   27017   \n",
       "1             1624511               164   884585   3165   6594   6016   11881   \n",
       "2             1100881                86  1025126   3179   7977   7160   15004   \n",
       "3             4143010               403  1695057   3817  12720  11364   23432   \n",
       "\n",
       "           weekday  dayofyear  quarter  \n",
       "year_vote                               \n",
       "0             3279     286025     3689  \n",
       "1             1235      89166     1191  \n",
       "2             1277      88744     1239  \n",
       "3             2300     102489     1567  "
      ]
     },
     "execution_count": 16,
     "metadata": {},
     "output_type": "execute_result"
    }
   ],
   "source": [
    "data.groupby([\"year_vote\"]).sum()"
   ]
  },
  {
   "cell_type": "code",
   "execution_count": 17,
   "metadata": {},
   "outputs": [
    {
     "data": {
      "text/html": [
       "<div>\n",
       "<style scoped>\n",
       "    .dataframe tbody tr th:only-of-type {\n",
       "        vertical-align: middle;\n",
       "    }\n",
       "\n",
       "    .dataframe tbody tr th {\n",
       "        vertical-align: top;\n",
       "    }\n",
       "\n",
       "    .dataframe thead th {\n",
       "        text-align: right;\n",
       "    }\n",
       "</style>\n",
       "<table border=\"1\" class=\"dataframe\">\n",
       "  <thead>\n",
       "    <tr style=\"text-align: right;\">\n",
       "      <th></th>\n",
       "      <th>Presidential_Candidate</th>\n",
       "      <th>Created_Time</th>\n",
       "      <th>Type</th>\n",
       "      <th>Engagement</th>\n",
       "      <th>Engagement_Level</th>\n",
       "      <th>year</th>\n",
       "      <th>month</th>\n",
       "      <th>day</th>\n",
       "      <th>hour</th>\n",
       "      <th>minute</th>\n",
       "      <th>weekday</th>\n",
       "      <th>day_name</th>\n",
       "      <th>dayofyear</th>\n",
       "      <th>quarter</th>\n",
       "      <th>month_name</th>\n",
       "      <th>time_period</th>\n",
       "      <th>year_vote</th>\n",
       "    </tr>\n",
       "  </thead>\n",
       "  <tbody>\n",
       "    <tr>\n",
       "      <td>0</td>\n",
       "      <td>Nana Addo Dankwa Akufo-Addo</td>\n",
       "      <td>2017-06-30 20:20:00+00:00</td>\n",
       "      <td>link</td>\n",
       "      <td>2581</td>\n",
       "      <td>0</td>\n",
       "      <td>2017</td>\n",
       "      <td>6</td>\n",
       "      <td>30</td>\n",
       "      <td>20</td>\n",
       "      <td>20</td>\n",
       "      <td>4</td>\n",
       "      <td>Friday</td>\n",
       "      <td>181</td>\n",
       "      <td>2</td>\n",
       "      <td>June</td>\n",
       "      <td>PM</td>\n",
       "      <td>3</td>\n",
       "    </tr>\n",
       "    <tr>\n",
       "      <td>1</td>\n",
       "      <td>Nana Addo Dankwa Akufo-Addo</td>\n",
       "      <td>2017-06-30 18:04:02+00:00</td>\n",
       "      <td>photo</td>\n",
       "      <td>5627</td>\n",
       "      <td>1</td>\n",
       "      <td>2017</td>\n",
       "      <td>6</td>\n",
       "      <td>30</td>\n",
       "      <td>18</td>\n",
       "      <td>4</td>\n",
       "      <td>4</td>\n",
       "      <td>Friday</td>\n",
       "      <td>181</td>\n",
       "      <td>2</td>\n",
       "      <td>June</td>\n",
       "      <td>PM</td>\n",
       "      <td>3</td>\n",
       "    </tr>\n",
       "    <tr>\n",
       "      <td>2</td>\n",
       "      <td>Nana Addo Dankwa Akufo-Addo</td>\n",
       "      <td>2017-06-30 07:55:38+00:00</td>\n",
       "      <td>status</td>\n",
       "      <td>5729</td>\n",
       "      <td>1</td>\n",
       "      <td>2017</td>\n",
       "      <td>6</td>\n",
       "      <td>30</td>\n",
       "      <td>7</td>\n",
       "      <td>55</td>\n",
       "      <td>4</td>\n",
       "      <td>Friday</td>\n",
       "      <td>181</td>\n",
       "      <td>2</td>\n",
       "      <td>June</td>\n",
       "      <td>AM</td>\n",
       "      <td>3</td>\n",
       "    </tr>\n",
       "    <tr>\n",
       "      <td>3</td>\n",
       "      <td>Nana Addo Dankwa Akufo-Addo</td>\n",
       "      <td>2017-06-29 14:45:54+00:00</td>\n",
       "      <td>photo</td>\n",
       "      <td>4936</td>\n",
       "      <td>1</td>\n",
       "      <td>2017</td>\n",
       "      <td>6</td>\n",
       "      <td>29</td>\n",
       "      <td>14</td>\n",
       "      <td>45</td>\n",
       "      <td>3</td>\n",
       "      <td>Thursday</td>\n",
       "      <td>180</td>\n",
       "      <td>2</td>\n",
       "      <td>June</td>\n",
       "      <td>PM</td>\n",
       "      <td>3</td>\n",
       "    </tr>\n",
       "    <tr>\n",
       "      <td>4</td>\n",
       "      <td>Nana Addo Dankwa Akufo-Addo</td>\n",
       "      <td>2017-06-29 12:15:15+00:00</td>\n",
       "      <td>link</td>\n",
       "      <td>4802</td>\n",
       "      <td>1</td>\n",
       "      <td>2017</td>\n",
       "      <td>6</td>\n",
       "      <td>29</td>\n",
       "      <td>12</td>\n",
       "      <td>15</td>\n",
       "      <td>3</td>\n",
       "      <td>Thursday</td>\n",
       "      <td>180</td>\n",
       "      <td>2</td>\n",
       "      <td>June</td>\n",
       "      <td>PM</td>\n",
       "      <td>3</td>\n",
       "    </tr>\n",
       "    <tr>\n",
       "      <td>5</td>\n",
       "      <td>Nana Addo Dankwa Akufo-Addo</td>\n",
       "      <td>2017-06-29 09:00:00+00:00</td>\n",
       "      <td>video</td>\n",
       "      <td>1198</td>\n",
       "      <td>0</td>\n",
       "      <td>2017</td>\n",
       "      <td>6</td>\n",
       "      <td>29</td>\n",
       "      <td>9</td>\n",
       "      <td>0</td>\n",
       "      <td>3</td>\n",
       "      <td>Thursday</td>\n",
       "      <td>180</td>\n",
       "      <td>2</td>\n",
       "      <td>June</td>\n",
       "      <td>AM</td>\n",
       "      <td>3</td>\n",
       "    </tr>\n",
       "    <tr>\n",
       "      <td>6</td>\n",
       "      <td>Nana Addo Dankwa Akufo-Addo</td>\n",
       "      <td>2017-06-28 17:06:40+00:00</td>\n",
       "      <td>link</td>\n",
       "      <td>3327</td>\n",
       "      <td>1</td>\n",
       "      <td>2017</td>\n",
       "      <td>6</td>\n",
       "      <td>28</td>\n",
       "      <td>17</td>\n",
       "      <td>6</td>\n",
       "      <td>2</td>\n",
       "      <td>Wednesday</td>\n",
       "      <td>179</td>\n",
       "      <td>2</td>\n",
       "      <td>June</td>\n",
       "      <td>PM</td>\n",
       "      <td>3</td>\n",
       "    </tr>\n",
       "    <tr>\n",
       "      <td>7</td>\n",
       "      <td>Nana Addo Dankwa Akufo-Addo</td>\n",
       "      <td>2017-06-28 16:41:05+00:00</td>\n",
       "      <td>video</td>\n",
       "      <td>2923</td>\n",
       "      <td>0</td>\n",
       "      <td>2017</td>\n",
       "      <td>6</td>\n",
       "      <td>28</td>\n",
       "      <td>16</td>\n",
       "      <td>41</td>\n",
       "      <td>2</td>\n",
       "      <td>Wednesday</td>\n",
       "      <td>179</td>\n",
       "      <td>2</td>\n",
       "      <td>June</td>\n",
       "      <td>PM</td>\n",
       "      <td>3</td>\n",
       "    </tr>\n",
       "    <tr>\n",
       "      <td>8</td>\n",
       "      <td>Nana Addo Dankwa Akufo-Addo</td>\n",
       "      <td>2017-06-28 09:16:36+00:00</td>\n",
       "      <td>link</td>\n",
       "      <td>3291</td>\n",
       "      <td>1</td>\n",
       "      <td>2017</td>\n",
       "      <td>6</td>\n",
       "      <td>28</td>\n",
       "      <td>9</td>\n",
       "      <td>16</td>\n",
       "      <td>2</td>\n",
       "      <td>Wednesday</td>\n",
       "      <td>179</td>\n",
       "      <td>2</td>\n",
       "      <td>June</td>\n",
       "      <td>AM</td>\n",
       "      <td>3</td>\n",
       "    </tr>\n",
       "    <tr>\n",
       "      <td>9</td>\n",
       "      <td>Nana Addo Dankwa Akufo-Addo</td>\n",
       "      <td>2017-06-27 20:58:14+00:00</td>\n",
       "      <td>photo</td>\n",
       "      <td>6902</td>\n",
       "      <td>1</td>\n",
       "      <td>2017</td>\n",
       "      <td>6</td>\n",
       "      <td>27</td>\n",
       "      <td>20</td>\n",
       "      <td>58</td>\n",
       "      <td>1</td>\n",
       "      <td>Tuesday</td>\n",
       "      <td>178</td>\n",
       "      <td>2</td>\n",
       "      <td>June</td>\n",
       "      <td>PM</td>\n",
       "      <td>3</td>\n",
       "    </tr>\n",
       "    <tr>\n",
       "      <td>10</td>\n",
       "      <td>Nana Addo Dankwa Akufo-Addo</td>\n",
       "      <td>2017-06-27 20:16:09+00:00</td>\n",
       "      <td>video</td>\n",
       "      <td>2049</td>\n",
       "      <td>0</td>\n",
       "      <td>2017</td>\n",
       "      <td>6</td>\n",
       "      <td>27</td>\n",
       "      <td>20</td>\n",
       "      <td>16</td>\n",
       "      <td>1</td>\n",
       "      <td>Tuesday</td>\n",
       "      <td>178</td>\n",
       "      <td>2</td>\n",
       "      <td>June</td>\n",
       "      <td>PM</td>\n",
       "      <td>3</td>\n",
       "    </tr>\n",
       "    <tr>\n",
       "      <td>11</td>\n",
       "      <td>Nana Addo Dankwa Akufo-Addo</td>\n",
       "      <td>2017-06-27 17:46:19+00:00</td>\n",
       "      <td>link</td>\n",
       "      <td>7655</td>\n",
       "      <td>1</td>\n",
       "      <td>2017</td>\n",
       "      <td>6</td>\n",
       "      <td>27</td>\n",
       "      <td>17</td>\n",
       "      <td>46</td>\n",
       "      <td>1</td>\n",
       "      <td>Tuesday</td>\n",
       "      <td>178</td>\n",
       "      <td>2</td>\n",
       "      <td>June</td>\n",
       "      <td>PM</td>\n",
       "      <td>3</td>\n",
       "    </tr>\n",
       "    <tr>\n",
       "      <td>12</td>\n",
       "      <td>Nana Addo Dankwa Akufo-Addo</td>\n",
       "      <td>2017-06-27 12:55:04+00:00</td>\n",
       "      <td>link</td>\n",
       "      <td>4849</td>\n",
       "      <td>1</td>\n",
       "      <td>2017</td>\n",
       "      <td>6</td>\n",
       "      <td>27</td>\n",
       "      <td>12</td>\n",
       "      <td>55</td>\n",
       "      <td>1</td>\n",
       "      <td>Tuesday</td>\n",
       "      <td>178</td>\n",
       "      <td>2</td>\n",
       "      <td>June</td>\n",
       "      <td>PM</td>\n",
       "      <td>3</td>\n",
       "    </tr>\n",
       "    <tr>\n",
       "      <td>13</td>\n",
       "      <td>Nana Addo Dankwa Akufo-Addo</td>\n",
       "      <td>2017-06-27 12:34:51+00:00</td>\n",
       "      <td>photo</td>\n",
       "      <td>5532</td>\n",
       "      <td>1</td>\n",
       "      <td>2017</td>\n",
       "      <td>6</td>\n",
       "      <td>27</td>\n",
       "      <td>12</td>\n",
       "      <td>34</td>\n",
       "      <td>1</td>\n",
       "      <td>Tuesday</td>\n",
       "      <td>178</td>\n",
       "      <td>2</td>\n",
       "      <td>June</td>\n",
       "      <td>PM</td>\n",
       "      <td>3</td>\n",
       "    </tr>\n",
       "    <tr>\n",
       "      <td>14</td>\n",
       "      <td>Nana Addo Dankwa Akufo-Addo</td>\n",
       "      <td>2017-06-27 12:07:18+00:00</td>\n",
       "      <td>video</td>\n",
       "      <td>2288</td>\n",
       "      <td>0</td>\n",
       "      <td>2017</td>\n",
       "      <td>6</td>\n",
       "      <td>27</td>\n",
       "      <td>12</td>\n",
       "      <td>7</td>\n",
       "      <td>1</td>\n",
       "      <td>Tuesday</td>\n",
       "      <td>178</td>\n",
       "      <td>2</td>\n",
       "      <td>June</td>\n",
       "      <td>PM</td>\n",
       "      <td>3</td>\n",
       "    </tr>\n",
       "    <tr>\n",
       "      <td>15</td>\n",
       "      <td>Nana Addo Dankwa Akufo-Addo</td>\n",
       "      <td>2017-06-27 10:35:36+00:00</td>\n",
       "      <td>photo</td>\n",
       "      <td>8589</td>\n",
       "      <td>1</td>\n",
       "      <td>2017</td>\n",
       "      <td>6</td>\n",
       "      <td>27</td>\n",
       "      <td>10</td>\n",
       "      <td>35</td>\n",
       "      <td>1</td>\n",
       "      <td>Tuesday</td>\n",
       "      <td>178</td>\n",
       "      <td>2</td>\n",
       "      <td>June</td>\n",
       "      <td>AM</td>\n",
       "      <td>3</td>\n",
       "    </tr>\n",
       "    <tr>\n",
       "      <td>16</td>\n",
       "      <td>Nana Addo Dankwa Akufo-Addo</td>\n",
       "      <td>2017-06-26 19:30:00+00:00</td>\n",
       "      <td>link</td>\n",
       "      <td>5653</td>\n",
       "      <td>1</td>\n",
       "      <td>2017</td>\n",
       "      <td>6</td>\n",
       "      <td>26</td>\n",
       "      <td>19</td>\n",
       "      <td>30</td>\n",
       "      <td>0</td>\n",
       "      <td>Monday</td>\n",
       "      <td>177</td>\n",
       "      <td>2</td>\n",
       "      <td>June</td>\n",
       "      <td>PM</td>\n",
       "      <td>3</td>\n",
       "    </tr>\n",
       "    <tr>\n",
       "      <td>17</td>\n",
       "      <td>Nana Addo Dankwa Akufo-Addo</td>\n",
       "      <td>2017-06-26 14:31:35+00:00</td>\n",
       "      <td>link</td>\n",
       "      <td>6798</td>\n",
       "      <td>1</td>\n",
       "      <td>2017</td>\n",
       "      <td>6</td>\n",
       "      <td>26</td>\n",
       "      <td>14</td>\n",
       "      <td>31</td>\n",
       "      <td>0</td>\n",
       "      <td>Monday</td>\n",
       "      <td>177</td>\n",
       "      <td>2</td>\n",
       "      <td>June</td>\n",
       "      <td>PM</td>\n",
       "      <td>3</td>\n",
       "    </tr>\n",
       "    <tr>\n",
       "      <td>18</td>\n",
       "      <td>Nana Addo Dankwa Akufo-Addo</td>\n",
       "      <td>2017-06-26 13:52:18+00:00</td>\n",
       "      <td>photo</td>\n",
       "      <td>18273</td>\n",
       "      <td>1</td>\n",
       "      <td>2017</td>\n",
       "      <td>6</td>\n",
       "      <td>26</td>\n",
       "      <td>13</td>\n",
       "      <td>52</td>\n",
       "      <td>0</td>\n",
       "      <td>Monday</td>\n",
       "      <td>177</td>\n",
       "      <td>2</td>\n",
       "      <td>June</td>\n",
       "      <td>PM</td>\n",
       "      <td>3</td>\n",
       "    </tr>\n",
       "    <tr>\n",
       "      <td>19</td>\n",
       "      <td>Nana Addo Dankwa Akufo-Addo</td>\n",
       "      <td>2017-06-26 12:29:35+00:00</td>\n",
       "      <td>link</td>\n",
       "      <td>5800</td>\n",
       "      <td>1</td>\n",
       "      <td>2017</td>\n",
       "      <td>6</td>\n",
       "      <td>26</td>\n",
       "      <td>12</td>\n",
       "      <td>29</td>\n",
       "      <td>0</td>\n",
       "      <td>Monday</td>\n",
       "      <td>177</td>\n",
       "      <td>2</td>\n",
       "      <td>June</td>\n",
       "      <td>PM</td>\n",
       "      <td>3</td>\n",
       "    </tr>\n",
       "  </tbody>\n",
       "</table>\n",
       "</div>"
      ],
      "text/plain": [
       "         Presidential_Candidate              Created_Time    Type  Engagement  \\\n",
       "0   Nana Addo Dankwa Akufo-Addo 2017-06-30 20:20:00+00:00    link        2581   \n",
       "1   Nana Addo Dankwa Akufo-Addo 2017-06-30 18:04:02+00:00   photo        5627   \n",
       "2   Nana Addo Dankwa Akufo-Addo 2017-06-30 07:55:38+00:00  status        5729   \n",
       "3   Nana Addo Dankwa Akufo-Addo 2017-06-29 14:45:54+00:00   photo        4936   \n",
       "4   Nana Addo Dankwa Akufo-Addo 2017-06-29 12:15:15+00:00    link        4802   \n",
       "5   Nana Addo Dankwa Akufo-Addo 2017-06-29 09:00:00+00:00   video        1198   \n",
       "6   Nana Addo Dankwa Akufo-Addo 2017-06-28 17:06:40+00:00    link        3327   \n",
       "7   Nana Addo Dankwa Akufo-Addo 2017-06-28 16:41:05+00:00   video        2923   \n",
       "8   Nana Addo Dankwa Akufo-Addo 2017-06-28 09:16:36+00:00    link        3291   \n",
       "9   Nana Addo Dankwa Akufo-Addo 2017-06-27 20:58:14+00:00   photo        6902   \n",
       "10  Nana Addo Dankwa Akufo-Addo 2017-06-27 20:16:09+00:00   video        2049   \n",
       "11  Nana Addo Dankwa Akufo-Addo 2017-06-27 17:46:19+00:00    link        7655   \n",
       "12  Nana Addo Dankwa Akufo-Addo 2017-06-27 12:55:04+00:00    link        4849   \n",
       "13  Nana Addo Dankwa Akufo-Addo 2017-06-27 12:34:51+00:00   photo        5532   \n",
       "14  Nana Addo Dankwa Akufo-Addo 2017-06-27 12:07:18+00:00   video        2288   \n",
       "15  Nana Addo Dankwa Akufo-Addo 2017-06-27 10:35:36+00:00   photo        8589   \n",
       "16  Nana Addo Dankwa Akufo-Addo 2017-06-26 19:30:00+00:00    link        5653   \n",
       "17  Nana Addo Dankwa Akufo-Addo 2017-06-26 14:31:35+00:00    link        6798   \n",
       "18  Nana Addo Dankwa Akufo-Addo 2017-06-26 13:52:18+00:00   photo       18273   \n",
       "19  Nana Addo Dankwa Akufo-Addo 2017-06-26 12:29:35+00:00    link        5800   \n",
       "\n",
       "    Engagement_Level  year  month  day  hour  minute  weekday   day_name  \\\n",
       "0                  0  2017      6   30    20      20        4     Friday   \n",
       "1                  1  2017      6   30    18       4        4     Friday   \n",
       "2                  1  2017      6   30     7      55        4     Friday   \n",
       "3                  1  2017      6   29    14      45        3   Thursday   \n",
       "4                  1  2017      6   29    12      15        3   Thursday   \n",
       "5                  0  2017      6   29     9       0        3   Thursday   \n",
       "6                  1  2017      6   28    17       6        2  Wednesday   \n",
       "7                  0  2017      6   28    16      41        2  Wednesday   \n",
       "8                  1  2017      6   28     9      16        2  Wednesday   \n",
       "9                  1  2017      6   27    20      58        1    Tuesday   \n",
       "10                 0  2017      6   27    20      16        1    Tuesday   \n",
       "11                 1  2017      6   27    17      46        1    Tuesday   \n",
       "12                 1  2017      6   27    12      55        1    Tuesday   \n",
       "13                 1  2017      6   27    12      34        1    Tuesday   \n",
       "14                 0  2017      6   27    12       7        1    Tuesday   \n",
       "15                 1  2017      6   27    10      35        1    Tuesday   \n",
       "16                 1  2017      6   26    19      30        0     Monday   \n",
       "17                 1  2017      6   26    14      31        0     Monday   \n",
       "18                 1  2017      6   26    13      52        0     Monday   \n",
       "19                 1  2017      6   26    12      29        0     Monday   \n",
       "\n",
       "    dayofyear  quarter month_name time_period  year_vote  \n",
       "0         181        2       June          PM          3  \n",
       "1         181        2       June          PM          3  \n",
       "2         181        2       June          AM          3  \n",
       "3         180        2       June          PM          3  \n",
       "4         180        2       June          PM          3  \n",
       "5         180        2       June          AM          3  \n",
       "6         179        2       June          PM          3  \n",
       "7         179        2       June          PM          3  \n",
       "8         179        2       June          AM          3  \n",
       "9         178        2       June          PM          3  \n",
       "10        178        2       June          PM          3  \n",
       "11        178        2       June          PM          3  \n",
       "12        178        2       June          PM          3  \n",
       "13        178        2       June          PM          3  \n",
       "14        178        2       June          PM          3  \n",
       "15        178        2       June          AM          3  \n",
       "16        177        2       June          PM          3  \n",
       "17        177        2       June          PM          3  \n",
       "18        177        2       June          PM          3  \n",
       "19        177        2       June          PM          3  "
      ]
     },
     "execution_count": 17,
     "metadata": {},
     "output_type": "execute_result"
    }
   ],
   "source": [
    "data.head(20)"
   ]
  },
  {
   "cell_type": "code",
   "execution_count": 18,
   "metadata": {},
   "outputs": [
    {
     "data": {
      "text/html": [
       "<div>\n",
       "<style scoped>\n",
       "    .dataframe tbody tr th:only-of-type {\n",
       "        vertical-align: middle;\n",
       "    }\n",
       "\n",
       "    .dataframe tbody tr th {\n",
       "        vertical-align: top;\n",
       "    }\n",
       "\n",
       "    .dataframe thead th {\n",
       "        text-align: right;\n",
       "    }\n",
       "</style>\n",
       "<table border=\"1\" class=\"dataframe\">\n",
       "  <thead>\n",
       "    <tr style=\"text-align: right;\">\n",
       "      <th></th>\n",
       "      <th>Presidential_Candidate</th>\n",
       "      <th>Created_Time</th>\n",
       "      <th>Type</th>\n",
       "      <th>Engagement</th>\n",
       "      <th>Engagement_Level</th>\n",
       "      <th>year</th>\n",
       "      <th>month</th>\n",
       "      <th>day</th>\n",
       "      <th>hour</th>\n",
       "      <th>minute</th>\n",
       "      <th>weekday</th>\n",
       "      <th>day_name</th>\n",
       "      <th>dayofyear</th>\n",
       "      <th>quarter</th>\n",
       "      <th>month_name</th>\n",
       "      <th>time_period</th>\n",
       "      <th>year_vote</th>\n",
       "    </tr>\n",
       "  </thead>\n",
       "  <tbody>\n",
       "    <tr>\n",
       "      <td>0</td>\n",
       "      <td>Nana Addo Dankwa Akufo-Addo</td>\n",
       "      <td>2017-06-30 20:20:00+00:00</td>\n",
       "      <td>link</td>\n",
       "      <td>2581</td>\n",
       "      <td>0</td>\n",
       "      <td>2017</td>\n",
       "      <td>6</td>\n",
       "      <td>30</td>\n",
       "      <td>20</td>\n",
       "      <td>20</td>\n",
       "      <td>4</td>\n",
       "      <td>Friday</td>\n",
       "      <td>181</td>\n",
       "      <td>2</td>\n",
       "      <td>June</td>\n",
       "      <td>PM</td>\n",
       "      <td>3</td>\n",
       "    </tr>\n",
       "    <tr>\n",
       "      <td>1</td>\n",
       "      <td>Nana Addo Dankwa Akufo-Addo</td>\n",
       "      <td>2017-06-30 18:04:02+00:00</td>\n",
       "      <td>photo</td>\n",
       "      <td>5627</td>\n",
       "      <td>1</td>\n",
       "      <td>2017</td>\n",
       "      <td>6</td>\n",
       "      <td>30</td>\n",
       "      <td>18</td>\n",
       "      <td>4</td>\n",
       "      <td>4</td>\n",
       "      <td>Friday</td>\n",
       "      <td>181</td>\n",
       "      <td>2</td>\n",
       "      <td>June</td>\n",
       "      <td>PM</td>\n",
       "      <td>3</td>\n",
       "    </tr>\n",
       "    <tr>\n",
       "      <td>2</td>\n",
       "      <td>Nana Addo Dankwa Akufo-Addo</td>\n",
       "      <td>2017-06-30 07:55:38+00:00</td>\n",
       "      <td>status</td>\n",
       "      <td>5729</td>\n",
       "      <td>1</td>\n",
       "      <td>2017</td>\n",
       "      <td>6</td>\n",
       "      <td>30</td>\n",
       "      <td>7</td>\n",
       "      <td>55</td>\n",
       "      <td>4</td>\n",
       "      <td>Friday</td>\n",
       "      <td>181</td>\n",
       "      <td>2</td>\n",
       "      <td>June</td>\n",
       "      <td>AM</td>\n",
       "      <td>3</td>\n",
       "    </tr>\n",
       "    <tr>\n",
       "      <td>3</td>\n",
       "      <td>Nana Addo Dankwa Akufo-Addo</td>\n",
       "      <td>2017-06-29 14:45:54+00:00</td>\n",
       "      <td>photo</td>\n",
       "      <td>4936</td>\n",
       "      <td>1</td>\n",
       "      <td>2017</td>\n",
       "      <td>6</td>\n",
       "      <td>29</td>\n",
       "      <td>14</td>\n",
       "      <td>45</td>\n",
       "      <td>3</td>\n",
       "      <td>Thursday</td>\n",
       "      <td>180</td>\n",
       "      <td>2</td>\n",
       "      <td>June</td>\n",
       "      <td>PM</td>\n",
       "      <td>3</td>\n",
       "    </tr>\n",
       "    <tr>\n",
       "      <td>4</td>\n",
       "      <td>Nana Addo Dankwa Akufo-Addo</td>\n",
       "      <td>2017-06-29 12:15:15+00:00</td>\n",
       "      <td>link</td>\n",
       "      <td>4802</td>\n",
       "      <td>1</td>\n",
       "      <td>2017</td>\n",
       "      <td>6</td>\n",
       "      <td>29</td>\n",
       "      <td>12</td>\n",
       "      <td>15</td>\n",
       "      <td>3</td>\n",
       "      <td>Thursday</td>\n",
       "      <td>180</td>\n",
       "      <td>2</td>\n",
       "      <td>June</td>\n",
       "      <td>PM</td>\n",
       "      <td>3</td>\n",
       "    </tr>\n",
       "  </tbody>\n",
       "</table>\n",
       "</div>"
      ],
      "text/plain": [
       "        Presidential_Candidate              Created_Time    Type  Engagement  \\\n",
       "0  Nana Addo Dankwa Akufo-Addo 2017-06-30 20:20:00+00:00    link        2581   \n",
       "1  Nana Addo Dankwa Akufo-Addo 2017-06-30 18:04:02+00:00   photo        5627   \n",
       "2  Nana Addo Dankwa Akufo-Addo 2017-06-30 07:55:38+00:00  status        5729   \n",
       "3  Nana Addo Dankwa Akufo-Addo 2017-06-29 14:45:54+00:00   photo        4936   \n",
       "4  Nana Addo Dankwa Akufo-Addo 2017-06-29 12:15:15+00:00    link        4802   \n",
       "\n",
       "   Engagement_Level  year  month  day  hour  minute  weekday  day_name  \\\n",
       "0                 0  2017      6   30    20      20        4    Friday   \n",
       "1                 1  2017      6   30    18       4        4    Friday   \n",
       "2                 1  2017      6   30     7      55        4    Friday   \n",
       "3                 1  2017      6   29    14      45        3  Thursday   \n",
       "4                 1  2017      6   29    12      15        3  Thursday   \n",
       "\n",
       "   dayofyear  quarter month_name time_period  year_vote  \n",
       "0        181        2       June          PM          3  \n",
       "1        181        2       June          PM          3  \n",
       "2        181        2       June          AM          3  \n",
       "3        180        2       June          PM          3  \n",
       "4        180        2       June          PM          3  "
      ]
     },
     "execution_count": 18,
     "metadata": {},
     "output_type": "execute_result"
    }
   ],
   "source": [
    "data.head()"
   ]
  },
  {
   "cell_type": "markdown",
   "metadata": {},
   "source": [
    "# Exploratory Data Analysis "
   ]
  },
  {
   "cell_type": "markdown",
   "metadata": {},
   "source": [
    "### EPA for 2016 year "
   ]
  },
  {
   "cell_type": "code",
   "execution_count": 19,
   "metadata": {},
   "outputs": [],
   "source": [
    "##Subsetting year 2016\n",
    "data_16=data[data.year == 2016]"
   ]
  },
  {
   "cell_type": "code",
   "execution_count": 20,
   "metadata": {},
   "outputs": [
    {
     "data": {
      "text/plain": [
       "<seaborn.axisgrid.FacetGrid at 0x1dd1269f648>"
      ]
     },
     "execution_count": 20,
     "metadata": {},
     "output_type": "execute_result"
    },
    {
     "data": {
      "image/png": "[encoded data removed]",
      "text/plain": [
       "<Figure size 360x360 with 1 Axes>"
      ]
     },
     "metadata": {},
     "output_type": "display_data"
    }
   ],
   "source": [
    "#Barplot of Presidential_Candidate\n",
    "sns.catplot(x='Presidential_Candidate',kind='count',data=data_16,palette=(\"#3498db\",\"#2ecc71\"))"
   ]
  },
  {
   "cell_type": "code",
   "execution_count": 21,
   "metadata": {},
   "outputs": [
    {
     "data": {
      "text/plain": [
       "<seaborn.axisgrid.FacetGrid at 0x1dd14fd6b08>"
      ]
     },
     "execution_count": 21,
     "metadata": {},
     "output_type": "execute_result"
    },
    {
     "data": {
      "image/png": "[encoded data removed]",
      "text/plain": [
       "<Figure size 783.25x360 with 2 Axes>"
      ]
     },
     "metadata": {},
     "output_type": "display_data"
    }
   ],
   "source": [
    "#Stackplot of Presidential_Candidate,Engagement_Level,Type\n",
    "sns.catplot(x='Presidential_Candidate',kind='count',col='Engagement_Level',hue='Type',data=data_16,palette=(\"#9b59b6\", \"#3498db\", \"#95a5a6\", \"#e74c3c\", \"#34495e\", \"#2ecc71\"))"
   ]
  },
  {
   "cell_type": "code",
   "execution_count": 22,
   "metadata": {},
   "outputs": [
    {
     "data": {
      "text/plain": [
       "<seaborn.axisgrid.FacetGrid at 0x1dd150b9108>"
      ]
     },
     "execution_count": 22,
     "metadata": {},
     "output_type": "execute_result"
    },
    {
     "data": {
      "image/png": "[encoded data removed]",
      "text/plain": [
       "<Figure size 720x360 with 2 Axes>"
      ]
     },
     "metadata": {},
     "output_type": "display_data"
    }
   ],
   "source": [
    "#Stackplot of Presidential_Candidate,Engagement_Level\n",
    "sns.catplot(x='Presidential_Candidate',kind='count',col='Engagement_Level',data=data_16,palette=(\"#3498db\",\"#2ecc71\"))"
   ]
  },
  {
   "cell_type": "code",
   "execution_count": 23,
   "metadata": {},
   "outputs": [
    {
     "data": {
      "text/plain": [
       "<seaborn.axisgrid.FacetGrid at 0x1dd151fbec8>"
      ]
     },
     "execution_count": 23,
     "metadata": {},
     "output_type": "execute_result"
    },
    {
     "data": {
      "image/png": "[encoded data removed]",
      "text/plain": [
       "<Figure size 900.75x360 with 2 Axes>"
      ]
     },
     "metadata": {},
     "output_type": "display_data"
    }
   ],
   "source": [
    "#Stackplot of time_period,Engagement_Level, Presidential_Candidate\n",
    "sns.catplot(x='time_period',kind='count',col='Engagement_Level',hue='Presidential_Candidate',data=data_16,palette=(\"#3498db\",\"#2ecc71\"))"
   ]
  },
  {
   "cell_type": "code",
   "execution_count": 67,
   "metadata": {},
   "outputs": [
    {
     "data": {
      "text/plain": [
       "<seaborn.axisgrid.FacetGrid at 0x1dd18718dc8>"
      ]
     },
     "execution_count": 67,
     "metadata": {},
     "output_type": "execute_result"
    },
    {
     "data": {
      "text/plain": [
       "<Figure size 1440x720 with 0 Axes>"
      ]
     },
     "metadata": {},
     "output_type": "display_data"
    },
    {
     "data": {
      "image/png": "[encoded data removed]",
      "text/plain": [
       "<Figure size 449.125x360 with 1 Axes>"
      ]
     },
     "metadata": {},
     "output_type": "display_data"
    }
   ],
   "source": [
    "#Stackplot of time_period,Engagement_Level, Presidential_Candidate\n",
    "plt.figure(figsize=(20,10))\n",
    "sns.catplot(x='quarter',kind='count',hue='Engagement_Level',data=data_16,palette=(\"#3498db\",\"#2ecc71\"))"
   ]
  },
  {
   "cell_type": "code",
   "execution_count": 24,
   "metadata": {
    "scrolled": true
   },
   "outputs": [
    {
     "data": {
      "text/plain": [
       "<seaborn.axisgrid.FacetGrid at 0x1dd16415f08>"
      ]
     },
     "execution_count": 24,
     "metadata": {},
     "output_type": "execute_result"
    },
    {
     "data": {
      "image/png": "[encoded data removed]",
      "text/plain": [
       "<Figure size 900.75x360 with 2 Axes>"
      ]
     },
     "metadata": {},
     "output_type": "display_data"
    }
   ],
   "source": [
    "#Stackplot of time_period,Engagement_Level, Presidential_Candidate\n",
    "sns.catplot(x='year',kind='count',col='Engagement_Level',hue='Presidential_Candidate',data=data,palette=(\"#3498db\",\"#2ecc71\"))"
   ]
  },
  {
   "cell_type": "code",
   "execution_count": 25,
   "metadata": {
    "scrolled": true
   },
   "outputs": [
    {
     "data": {
      "text/plain": [
       "<seaborn.axisgrid.FacetGrid at 0x1dd16506108>"
      ]
     },
     "execution_count": 25,
     "metadata": {},
     "output_type": "execute_result"
    },
    {
     "data": {
      "text/plain": [
       "<Figure size 1080x720 with 0 Axes>"
      ]
     },
     "metadata": {},
     "output_type": "display_data"
    },
    {
     "data": {
      "image/png": "[encoded data removed]",
      "text/plain": [
       "<Figure size 809.125x360 with 2 Axes>"
      ]
     },
     "metadata": {},
     "output_type": "display_data"
    }
   ],
   "source": [
    "#Stackplot of time_period,Engagement_Level, Presidential_Candidate\n",
    "plt.figure(figsize=(15,10))\n",
    "sns.catplot(x='day',kind='count',col='time_period',hue='Engagement_Level',data=data,palette=(\"#3498db\",\"#2ecc71\"))"
   ]
  },
  {
   "cell_type": "code",
   "execution_count": 26,
   "metadata": {},
   "outputs": [
    {
     "data": {
      "text/plain": [
       "<seaborn.axisgrid.FacetGrid at 0x1dd169ac688>"
      ]
     },
     "execution_count": 26,
     "metadata": {},
     "output_type": "execute_result"
    },
    {
     "data": {
      "text/plain": [
       "<Figure size 1080x720 with 0 Axes>"
      ]
     },
     "metadata": {},
     "output_type": "display_data"
    },
    {
     "data": {
      "image/png": "[encoded data removed]",
      "text/plain": [
       "<Figure size 809.125x2160 with 12 Axes>"
      ]
     },
     "metadata": {},
     "output_type": "display_data"
    }
   ],
   "source": [
    "#Stackplot of time_period,Engagement_Level, Presidential_Candidate\n",
    "plt.figure(figsize=(15,10))\n",
    "sns.catplot(x='day',kind='count',col='month_name',col_wrap=2,hue='Engagement_Level',data=data,palette=(\"#3498db\",\"#2ecc71\"))"
   ]
  },
  {
   "cell_type": "code",
   "execution_count": 27,
   "metadata": {},
   "outputs": [
    {
     "data": {
      "text/plain": [
       "<matplotlib.axes._subplots.AxesSubplot at 0x1dd16c54888>"
      ]
     },
     "execution_count": 27,
     "metadata": {},
     "output_type": "execute_result"
    },
    {
     "data": {
      "image/png": "[encoded data removed]",
      "text/plain": [
       "<Figure size 1080x720 with 1 Axes>"
      ]
     },
     "metadata": {},
     "output_type": "display_data"
    }
   ],
   "source": [
    "plt.figure(figsize=(15,10))\n",
    "sns.boxplot(data=data,x='month_name',y='Engagement',color='red')"
   ]
  },
  {
   "cell_type": "code",
   "execution_count": 28,
   "metadata": {},
   "outputs": [
    {
     "data": {
      "text/plain": [
       "<seaborn.axisgrid.FacetGrid at 0x1dd175c3348>"
      ]
     },
     "execution_count": 28,
     "metadata": {},
     "output_type": "execute_result"
    },
    {
     "data": {
      "image/png": "[encoded data removed]",
      "text/plain": [
       "<Figure size 769.125x360 with 2 Axes>"
      ]
     },
     "metadata": {},
     "output_type": "display_data"
    }
   ],
   "source": [
    "#Stackplot of Presidential_Candidate, Engagement_Level, year_vote\n",
    "sns.catplot(x='Presidential_Candidate',kind='count',col='Engagement_Level',hue='year_vote',data=data,palette=(\"#9b59b6\", \"#3498db\", \"#95a5a6\", \"#e74c3c\", \"#34495e\", \"#2ecc71\"))"
   ]
  },
  {
   "cell_type": "code",
   "execution_count": 29,
   "metadata": {},
   "outputs": [
    {
     "data": {
      "text/plain": [
       "<matplotlib.axes._subplots.AxesSubplot at 0x1dd175d3108>"
      ]
     },
     "execution_count": 29,
     "metadata": {},
     "output_type": "execute_result"
    },
    {
     "data": {
      "image/png": "[encoded data removed]",
      "text/plain": [
       "<Figure size 864x360 with 1 Axes>"
      ]
     },
     "metadata": {},
     "output_type": "display_data"
    }
   ],
   "source": [
    "#Kernel density plot on Age\n",
    "plt.figure(figsize=(12,5))\n",
    "plt.title(\"Distribution of year_vote\")\n",
    "sns.distplot(data['year_vote'],color='B')"
   ]
  },
  {
   "cell_type": "code",
   "execution_count": 30,
   "metadata": {},
   "outputs": [
    {
     "data": {
      "text/plain": [
       "<matplotlib.axes._subplots.AxesSubplot at 0x1dd180e86c8>"
      ]
     },
     "execution_count": 30,
     "metadata": {},
     "output_type": "execute_result"
    },
    {
     "data": {
      "image/png": "[encoded data removed]",
      "text/plain": [
       "<Figure size 864x360 with 1 Axes>"
      ]
     },
     "metadata": {},
     "output_type": "display_data"
    }
   ],
   "source": [
    "#Kernel density plot on Age\n",
    "plt.figure(figsize=(12,5))\n",
    "plt.title(\"Trend of Post on year basis\")\n",
    "sns.distplot(data['year'],color='B')"
   ]
  },
  {
   "cell_type": "code",
   "execution_count": 31,
   "metadata": {},
   "outputs": [
    {
     "data": {
      "text/plain": [
       "<matplotlib.axes._subplots.AxesSubplot at 0x1dd18171e48>"
      ]
     },
     "execution_count": 31,
     "metadata": {},
     "output_type": "execute_result"
    },
    {
     "data": {
      "image/png": "[encoded data removed]",
      "text/plain": [
       "<Figure size 864x720 with 2 Axes>"
      ]
     },
     "metadata": {},
     "output_type": "display_data"
    }
   ],
   "source": [
    "#Correlation Plot\n",
    "f,ax=plt.subplots(figsize=(12,10))\n",
    "corr=data.corr()\n",
    "sns.heatmap(data.corr(),mask=np.zeros_like(corr, dtype=np.bool), cmap=sns.diverging_palette(520,14,as_cmap=True),square=True, ax=ax)"
   ]
  },
  {
   "cell_type": "markdown",
   "metadata": {},
   "source": [
    "## Data Preprocessing "
   ]
  },
  {
   "cell_type": "code",
   "execution_count": 32,
   "metadata": {},
   "outputs": [],
   "source": [
    "#Dropping Likes_Count, Comments_Count,Shares_Count\n",
    "data=data.drop(['Created_Time','Engagement'], axis=1)"
   ]
  },
  {
   "cell_type": "code",
   "execution_count": 33,
   "metadata": {},
   "outputs": [
    {
     "data": {
      "text/plain": [
       "Presidential_Candidate    0.0\n",
       "Type                      0.0\n",
       "Engagement_Level          0.0\n",
       "year                      0.0\n",
       "month                     0.0\n",
       "day                       0.0\n",
       "hour                      0.0\n",
       "minute                    0.0\n",
       "weekday                   0.0\n",
       "day_name                  0.0\n",
       "dayofyear                 0.0\n",
       "quarter                   0.0\n",
       "month_name                0.0\n",
       "time_period               0.0\n",
       "year_vote                 0.0\n",
       "dtype: float64"
      ]
     },
     "execution_count": 33,
     "metadata": {},
     "output_type": "execute_result"
    }
   ],
   "source": [
    "#Checking the percentage of missing numbers \n",
    "Train_missing=data.isna().mean().round(4) * 100\n",
    "Train_missing"
   ]
  },
  {
   "cell_type": "code",
   "execution_count": 34,
   "metadata": {},
   "outputs": [],
   "source": [
    "#Dummy Variables on Categorical Variables\n",
    "data_dummies=pd.get_dummies(data, prefix='', prefix_sep='', columns=['Presidential_Candidate','Type','day_name','month_name','time_period'])"
   ]
  },
  {
   "cell_type": "code",
   "execution_count": 35,
   "metadata": {},
   "outputs": [
    {
     "data": {
      "text/html": [
       "<div>\n",
       "<style scoped>\n",
       "    .dataframe tbody tr th:only-of-type {\n",
       "        vertical-align: middle;\n",
       "    }\n",
       "\n",
       "    .dataframe tbody tr th {\n",
       "        vertical-align: top;\n",
       "    }\n",
       "\n",
       "    .dataframe thead th {\n",
       "        text-align: right;\n",
       "    }\n",
       "</style>\n",
       "<table border=\"1\" class=\"dataframe\">\n",
       "  <thead>\n",
       "    <tr style=\"text-align: right;\">\n",
       "      <th></th>\n",
       "      <th>Engagement_Level</th>\n",
       "      <th>year</th>\n",
       "      <th>month</th>\n",
       "      <th>day</th>\n",
       "      <th>hour</th>\n",
       "      <th>minute</th>\n",
       "      <th>weekday</th>\n",
       "      <th>dayofyear</th>\n",
       "      <th>quarter</th>\n",
       "      <th>year_vote</th>\n",
       "      <th>...</th>\n",
       "      <th>January</th>\n",
       "      <th>July</th>\n",
       "      <th>June</th>\n",
       "      <th>March</th>\n",
       "      <th>May</th>\n",
       "      <th>November</th>\n",
       "      <th>October</th>\n",
       "      <th>September</th>\n",
       "      <th>AM</th>\n",
       "      <th>PM</th>\n",
       "    </tr>\n",
       "  </thead>\n",
       "  <tbody>\n",
       "    <tr>\n",
       "      <td>0</td>\n",
       "      <td>0</td>\n",
       "      <td>2017</td>\n",
       "      <td>6</td>\n",
       "      <td>30</td>\n",
       "      <td>20</td>\n",
       "      <td>20</td>\n",
       "      <td>4</td>\n",
       "      <td>181</td>\n",
       "      <td>2</td>\n",
       "      <td>3</td>\n",
       "      <td>...</td>\n",
       "      <td>0</td>\n",
       "      <td>0</td>\n",
       "      <td>1</td>\n",
       "      <td>0</td>\n",
       "      <td>0</td>\n",
       "      <td>0</td>\n",
       "      <td>0</td>\n",
       "      <td>0</td>\n",
       "      <td>0</td>\n",
       "      <td>1</td>\n",
       "    </tr>\n",
       "    <tr>\n",
       "      <td>1</td>\n",
       "      <td>1</td>\n",
       "      <td>2017</td>\n",
       "      <td>6</td>\n",
       "      <td>30</td>\n",
       "      <td>18</td>\n",
       "      <td>4</td>\n",
       "      <td>4</td>\n",
       "      <td>181</td>\n",
       "      <td>2</td>\n",
       "      <td>3</td>\n",
       "      <td>...</td>\n",
       "      <td>0</td>\n",
       "      <td>0</td>\n",
       "      <td>1</td>\n",
       "      <td>0</td>\n",
       "      <td>0</td>\n",
       "      <td>0</td>\n",
       "      <td>0</td>\n",
       "      <td>0</td>\n",
       "      <td>0</td>\n",
       "      <td>1</td>\n",
       "    </tr>\n",
       "    <tr>\n",
       "      <td>2</td>\n",
       "      <td>1</td>\n",
       "      <td>2017</td>\n",
       "      <td>6</td>\n",
       "      <td>30</td>\n",
       "      <td>7</td>\n",
       "      <td>55</td>\n",
       "      <td>4</td>\n",
       "      <td>181</td>\n",
       "      <td>2</td>\n",
       "      <td>3</td>\n",
       "      <td>...</td>\n",
       "      <td>0</td>\n",
       "      <td>0</td>\n",
       "      <td>1</td>\n",
       "      <td>0</td>\n",
       "      <td>0</td>\n",
       "      <td>0</td>\n",
       "      <td>0</td>\n",
       "      <td>0</td>\n",
       "      <td>1</td>\n",
       "      <td>0</td>\n",
       "    </tr>\n",
       "    <tr>\n",
       "      <td>3</td>\n",
       "      <td>1</td>\n",
       "      <td>2017</td>\n",
       "      <td>6</td>\n",
       "      <td>29</td>\n",
       "      <td>14</td>\n",
       "      <td>45</td>\n",
       "      <td>3</td>\n",
       "      <td>180</td>\n",
       "      <td>2</td>\n",
       "      <td>3</td>\n",
       "      <td>...</td>\n",
       "      <td>0</td>\n",
       "      <td>0</td>\n",
       "      <td>1</td>\n",
       "      <td>0</td>\n",
       "      <td>0</td>\n",
       "      <td>0</td>\n",
       "      <td>0</td>\n",
       "      <td>0</td>\n",
       "      <td>0</td>\n",
       "      <td>1</td>\n",
       "    </tr>\n",
       "    <tr>\n",
       "      <td>4</td>\n",
       "      <td>1</td>\n",
       "      <td>2017</td>\n",
       "      <td>6</td>\n",
       "      <td>29</td>\n",
       "      <td>12</td>\n",
       "      <td>15</td>\n",
       "      <td>3</td>\n",
       "      <td>180</td>\n",
       "      <td>2</td>\n",
       "      <td>3</td>\n",
       "      <td>...</td>\n",
       "      <td>0</td>\n",
       "      <td>0</td>\n",
       "      <td>1</td>\n",
       "      <td>0</td>\n",
       "      <td>0</td>\n",
       "      <td>0</td>\n",
       "      <td>0</td>\n",
       "      <td>0</td>\n",
       "      <td>0</td>\n",
       "      <td>1</td>\n",
       "    </tr>\n",
       "    <tr>\n",
       "      <td>...</td>\n",
       "      <td>...</td>\n",
       "      <td>...</td>\n",
       "      <td>...</td>\n",
       "      <td>...</td>\n",
       "      <td>...</td>\n",
       "      <td>...</td>\n",
       "      <td>...</td>\n",
       "      <td>...</td>\n",
       "      <td>...</td>\n",
       "      <td>...</td>\n",
       "      <td>...</td>\n",
       "      <td>...</td>\n",
       "      <td>...</td>\n",
       "      <td>...</td>\n",
       "      <td>...</td>\n",
       "      <td>...</td>\n",
       "      <td>...</td>\n",
       "      <td>...</td>\n",
       "      <td>...</td>\n",
       "      <td>...</td>\n",
       "      <td>...</td>\n",
       "    </tr>\n",
       "    <tr>\n",
       "      <td>2936</td>\n",
       "      <td>0</td>\n",
       "      <td>2013</td>\n",
       "      <td>1</td>\n",
       "      <td>30</td>\n",
       "      <td>16</td>\n",
       "      <td>53</td>\n",
       "      <td>2</td>\n",
       "      <td>30</td>\n",
       "      <td>1</td>\n",
       "      <td>3</td>\n",
       "      <td>...</td>\n",
       "      <td>1</td>\n",
       "      <td>0</td>\n",
       "      <td>0</td>\n",
       "      <td>0</td>\n",
       "      <td>0</td>\n",
       "      <td>0</td>\n",
       "      <td>0</td>\n",
       "      <td>0</td>\n",
       "      <td>0</td>\n",
       "      <td>1</td>\n",
       "    </tr>\n",
       "    <tr>\n",
       "      <td>2937</td>\n",
       "      <td>0</td>\n",
       "      <td>2013</td>\n",
       "      <td>1</td>\n",
       "      <td>30</td>\n",
       "      <td>16</td>\n",
       "      <td>48</td>\n",
       "      <td>2</td>\n",
       "      <td>30</td>\n",
       "      <td>1</td>\n",
       "      <td>3</td>\n",
       "      <td>...</td>\n",
       "      <td>1</td>\n",
       "      <td>0</td>\n",
       "      <td>0</td>\n",
       "      <td>0</td>\n",
       "      <td>0</td>\n",
       "      <td>0</td>\n",
       "      <td>0</td>\n",
       "      <td>0</td>\n",
       "      <td>0</td>\n",
       "      <td>1</td>\n",
       "    </tr>\n",
       "    <tr>\n",
       "      <td>2938</td>\n",
       "      <td>0</td>\n",
       "      <td>2013</td>\n",
       "      <td>1</td>\n",
       "      <td>28</td>\n",
       "      <td>19</td>\n",
       "      <td>1</td>\n",
       "      <td>0</td>\n",
       "      <td>28</td>\n",
       "      <td>1</td>\n",
       "      <td>3</td>\n",
       "      <td>...</td>\n",
       "      <td>1</td>\n",
       "      <td>0</td>\n",
       "      <td>0</td>\n",
       "      <td>0</td>\n",
       "      <td>0</td>\n",
       "      <td>0</td>\n",
       "      <td>0</td>\n",
       "      <td>0</td>\n",
       "      <td>0</td>\n",
       "      <td>1</td>\n",
       "    </tr>\n",
       "    <tr>\n",
       "      <td>2939</td>\n",
       "      <td>0</td>\n",
       "      <td>2013</td>\n",
       "      <td>1</td>\n",
       "      <td>28</td>\n",
       "      <td>13</td>\n",
       "      <td>53</td>\n",
       "      <td>0</td>\n",
       "      <td>28</td>\n",
       "      <td>1</td>\n",
       "      <td>3</td>\n",
       "      <td>...</td>\n",
       "      <td>1</td>\n",
       "      <td>0</td>\n",
       "      <td>0</td>\n",
       "      <td>0</td>\n",
       "      <td>0</td>\n",
       "      <td>0</td>\n",
       "      <td>0</td>\n",
       "      <td>0</td>\n",
       "      <td>0</td>\n",
       "      <td>1</td>\n",
       "    </tr>\n",
       "    <tr>\n",
       "      <td>2940</td>\n",
       "      <td>0</td>\n",
       "      <td>2013</td>\n",
       "      <td>1</td>\n",
       "      <td>28</td>\n",
       "      <td>13</td>\n",
       "      <td>37</td>\n",
       "      <td>0</td>\n",
       "      <td>28</td>\n",
       "      <td>1</td>\n",
       "      <td>3</td>\n",
       "      <td>...</td>\n",
       "      <td>1</td>\n",
       "      <td>0</td>\n",
       "      <td>0</td>\n",
       "      <td>0</td>\n",
       "      <td>0</td>\n",
       "      <td>0</td>\n",
       "      <td>0</td>\n",
       "      <td>0</td>\n",
       "      <td>0</td>\n",
       "      <td>1</td>\n",
       "    </tr>\n",
       "  </tbody>\n",
       "</table>\n",
       "<p>2941 rows × 38 columns</p>\n",
       "</div>"
      ],
      "text/plain": [
       "      Engagement_Level  year  month  day  hour  minute  weekday  dayofyear  \\\n",
       "0                    0  2017      6   30    20      20        4        181   \n",
       "1                    1  2017      6   30    18       4        4        181   \n",
       "2                    1  2017      6   30     7      55        4        181   \n",
       "3                    1  2017      6   29    14      45        3        180   \n",
       "4                    1  2017      6   29    12      15        3        180   \n",
       "...                ...   ...    ...  ...   ...     ...      ...        ...   \n",
       "2936                 0  2013      1   30    16      53        2         30   \n",
       "2937                 0  2013      1   30    16      48        2         30   \n",
       "2938                 0  2013      1   28    19       1        0         28   \n",
       "2939                 0  2013      1   28    13      53        0         28   \n",
       "2940                 0  2013      1   28    13      37        0         28   \n",
       "\n",
       "      quarter  year_vote  ...  January  July  June  March  May  November  \\\n",
       "0           2          3  ...        0     0     1      0    0         0   \n",
       "1           2          3  ...        0     0     1      0    0         0   \n",
       "2           2          3  ...        0     0     1      0    0         0   \n",
       "3           2          3  ...        0     0     1      0    0         0   \n",
       "4           2          3  ...        0     0     1      0    0         0   \n",
       "...       ...        ...  ...      ...   ...   ...    ...  ...       ...   \n",
       "2936        1          3  ...        1     0     0      0    0         0   \n",
       "2937        1          3  ...        1     0     0      0    0         0   \n",
       "2938        1          3  ...        1     0     0      0    0         0   \n",
       "2939        1          3  ...        1     0     0      0    0         0   \n",
       "2940        1          3  ...        1     0     0      0    0         0   \n",
       "\n",
       "      October  September  AM  PM  \n",
       "0           0          0   0   1  \n",
       "1           0          0   0   1  \n",
       "2           0          0   1   0  \n",
       "3           0          0   0   1  \n",
       "4           0          0   0   1  \n",
       "...       ...        ...  ..  ..  \n",
       "2936        0          0   0   1  \n",
       "2937        0          0   0   1  \n",
       "2938        0          0   0   1  \n",
       "2939        0          0   0   1  \n",
       "2940        0          0   0   1  \n",
       "\n",
       "[2941 rows x 38 columns]"
      ]
     },
     "execution_count": 35,
     "metadata": {},
     "output_type": "execute_result"
    }
   ],
   "source": [
    "data_dummies"
   ]
  },
  {
   "cell_type": "markdown",
   "metadata": {},
   "source": [
    "## Splitting joined dataset into Train and Test set "
   ]
  },
  {
   "cell_type": "code",
   "execution_count": 36,
   "metadata": {},
   "outputs": [
    {
     "data": {
      "text/plain": [
       "((2941,), (2941, 37))"
      ]
     },
     "execution_count": 36,
     "metadata": {},
     "output_type": "execute_result"
    }
   ],
   "source": [
    "# Separate input features (X) and target variable (y)\n",
    "y = data_dummies.Engagement_Level\n",
    "X = data_dummies.drop('Engagement_Level', axis=1)\n",
    "y.shape,  X.shape"
   ]
  },
  {
   "cell_type": "code",
   "execution_count": 63,
   "metadata": {},
   "outputs": [],
   "source": [
    "#Splitting dataset into Train and Test set\n",
    "X_train, X_test, y_train, y_test = train_test_split(X, y, test_size=0.20, random_state=42, stratify=y)"
   ]
  },
  {
   "cell_type": "code",
   "execution_count": 38,
   "metadata": {},
   "outputs": [
    {
     "name": "stdout",
     "output_type": "stream",
     "text": [
      "0 (Engagement_Level) 50.0 % of the dataset\n",
      "1 (Engagement_Level) 50.0 % of the dataset\n"
     ]
    }
   ],
   "source": [
    "#Percentage of imbalance data in target feature\n",
    "print('0 (Engagement_Level)', round(y_train.value_counts()[0]/len(y_train) * 100,2), '% of the dataset')\n",
    "print('1 (Engagement_Level)', round(y_train.value_counts()[1]/len(y_train) * 100,2), '% of the dataset')"
   ]
  },
  {
   "cell_type": "code",
   "execution_count": 39,
   "metadata": {},
   "outputs": [
    {
     "data": {
      "text/html": [
       "<div>\n",
       "<style scoped>\n",
       "    .dataframe tbody tr th:only-of-type {\n",
       "        vertical-align: middle;\n",
       "    }\n",
       "\n",
       "    .dataframe tbody tr th {\n",
       "        vertical-align: top;\n",
       "    }\n",
       "\n",
       "    .dataframe thead th {\n",
       "        text-align: right;\n",
       "    }\n",
       "</style>\n",
       "<table border=\"1\" class=\"dataframe\">\n",
       "  <thead>\n",
       "    <tr style=\"text-align: right;\">\n",
       "      <th></th>\n",
       "      <th>year</th>\n",
       "      <th>month</th>\n",
       "      <th>day</th>\n",
       "      <th>hour</th>\n",
       "      <th>minute</th>\n",
       "      <th>weekday</th>\n",
       "      <th>dayofyear</th>\n",
       "      <th>quarter</th>\n",
       "      <th>year_vote</th>\n",
       "      <th>John Dramani Mahama</th>\n",
       "      <th>...</th>\n",
       "      <th>January</th>\n",
       "      <th>July</th>\n",
       "      <th>June</th>\n",
       "      <th>March</th>\n",
       "      <th>May</th>\n",
       "      <th>November</th>\n",
       "      <th>October</th>\n",
       "      <th>September</th>\n",
       "      <th>AM</th>\n",
       "      <th>PM</th>\n",
       "    </tr>\n",
       "  </thead>\n",
       "  <tbody>\n",
       "    <tr>\n",
       "      <td>0</td>\n",
       "      <td>-0.998867</td>\n",
       "      <td>0.360548</td>\n",
       "      <td>0.308240</td>\n",
       "      <td>-0.132628</td>\n",
       "      <td>-1.219239</td>\n",
       "      <td>-0.909691</td>\n",
       "      <td>0.378566</td>\n",
       "      <td>0.369804</td>\n",
       "      <td>0.497451</td>\n",
       "      <td>-0.789043</td>\n",
       "      <td>...</td>\n",
       "      <td>-0.291058</td>\n",
       "      <td>-0.227565</td>\n",
       "      <td>-0.307889</td>\n",
       "      <td>-0.284137</td>\n",
       "      <td>-0.314453</td>\n",
       "      <td>-0.355239</td>\n",
       "      <td>-0.355239</td>\n",
       "      <td>-0.311182</td>\n",
       "      <td>-0.692748</td>\n",
       "      <td>0.692748</td>\n",
       "    </tr>\n",
       "    <tr>\n",
       "      <td>1</td>\n",
       "      <td>-0.212326</td>\n",
       "      <td>-1.365978</td>\n",
       "      <td>-1.735514</td>\n",
       "      <td>0.289630</td>\n",
       "      <td>0.565409</td>\n",
       "      <td>1.756021</td>\n",
       "      <td>-1.490205</td>\n",
       "      <td>-1.379709</td>\n",
       "      <td>-0.307490</td>\n",
       "      <td>-0.789043</td>\n",
       "      <td>...</td>\n",
       "      <td>-0.291058</td>\n",
       "      <td>-0.227565</td>\n",
       "      <td>-0.307889</td>\n",
       "      <td>-0.284137</td>\n",
       "      <td>-0.314453</td>\n",
       "      <td>-0.355239</td>\n",
       "      <td>-0.355239</td>\n",
       "      <td>-0.311182</td>\n",
       "      <td>-0.692748</td>\n",
       "      <td>0.692748</td>\n",
       "    </tr>\n",
       "    <tr>\n",
       "      <td>2</td>\n",
       "      <td>-1.785408</td>\n",
       "      <td>-0.502715</td>\n",
       "      <td>-0.940721</td>\n",
       "      <td>-1.821658</td>\n",
       "      <td>0.457249</td>\n",
       "      <td>-0.376549</td>\n",
       "      <td>-0.588687</td>\n",
       "      <td>-0.504953</td>\n",
       "      <td>1.302391</td>\n",
       "      <td>1.267357</td>\n",
       "      <td>...</td>\n",
       "      <td>-0.291058</td>\n",
       "      <td>-0.227565</td>\n",
       "      <td>-0.307889</td>\n",
       "      <td>-0.284137</td>\n",
       "      <td>3.180127</td>\n",
       "      <td>-0.355239</td>\n",
       "      <td>-0.355239</td>\n",
       "      <td>-0.311182</td>\n",
       "      <td>1.443527</td>\n",
       "      <td>-1.443527</td>\n",
       "    </tr>\n",
       "    <tr>\n",
       "      <td>3</td>\n",
       "      <td>1.360756</td>\n",
       "      <td>-1.078224</td>\n",
       "      <td>-0.373011</td>\n",
       "      <td>-0.977143</td>\n",
       "      <td>1.214372</td>\n",
       "      <td>-1.442834</td>\n",
       "      <td>-1.114572</td>\n",
       "      <td>-1.379709</td>\n",
       "      <td>1.302391</td>\n",
       "      <td>1.267357</td>\n",
       "      <td>...</td>\n",
       "      <td>-0.291058</td>\n",
       "      <td>-0.227565</td>\n",
       "      <td>-0.307889</td>\n",
       "      <td>3.519427</td>\n",
       "      <td>-0.314453</td>\n",
       "      <td>-0.355239</td>\n",
       "      <td>-0.355239</td>\n",
       "      <td>-0.311182</td>\n",
       "      <td>1.443527</td>\n",
       "      <td>-1.443527</td>\n",
       "    </tr>\n",
       "    <tr>\n",
       "      <td>4</td>\n",
       "      <td>0.574215</td>\n",
       "      <td>0.360548</td>\n",
       "      <td>0.194698</td>\n",
       "      <td>0.500759</td>\n",
       "      <td>-0.732516</td>\n",
       "      <td>0.156594</td>\n",
       "      <td>0.378566</td>\n",
       "      <td>0.369804</td>\n",
       "      <td>-1.112431</td>\n",
       "      <td>-0.789043</td>\n",
       "      <td>...</td>\n",
       "      <td>-0.291058</td>\n",
       "      <td>-0.227565</td>\n",
       "      <td>-0.307889</td>\n",
       "      <td>-0.284137</td>\n",
       "      <td>-0.314453</td>\n",
       "      <td>-0.355239</td>\n",
       "      <td>-0.355239</td>\n",
       "      <td>-0.311182</td>\n",
       "      <td>-0.692748</td>\n",
       "      <td>0.692748</td>\n",
       "    </tr>\n",
       "    <tr>\n",
       "      <td>...</td>\n",
       "      <td>...</td>\n",
       "      <td>...</td>\n",
       "      <td>...</td>\n",
       "      <td>...</td>\n",
       "      <td>...</td>\n",
       "      <td>...</td>\n",
       "      <td>...</td>\n",
       "      <td>...</td>\n",
       "      <td>...</td>\n",
       "      <td>...</td>\n",
       "      <td>...</td>\n",
       "      <td>...</td>\n",
       "      <td>...</td>\n",
       "      <td>...</td>\n",
       "      <td>...</td>\n",
       "      <td>...</td>\n",
       "      <td>...</td>\n",
       "      <td>...</td>\n",
       "      <td>...</td>\n",
       "      <td>...</td>\n",
       "      <td>...</td>\n",
       "    </tr>\n",
       "    <tr>\n",
       "      <td>584</td>\n",
       "      <td>-0.998867</td>\n",
       "      <td>-1.653732</td>\n",
       "      <td>0.535324</td>\n",
       "      <td>-0.132628</td>\n",
       "      <td>0.078687</td>\n",
       "      <td>-0.909691</td>\n",
       "      <td>-1.593503</td>\n",
       "      <td>-1.379709</td>\n",
       "      <td>0.497451</td>\n",
       "      <td>1.267357</td>\n",
       "      <td>...</td>\n",
       "      <td>3.435746</td>\n",
       "      <td>-0.227565</td>\n",
       "      <td>-0.307889</td>\n",
       "      <td>-0.284137</td>\n",
       "      <td>-0.314453</td>\n",
       "      <td>-0.355239</td>\n",
       "      <td>-0.355239</td>\n",
       "      <td>-0.311182</td>\n",
       "      <td>-0.692748</td>\n",
       "      <td>0.692748</td>\n",
       "    </tr>\n",
       "    <tr>\n",
       "      <td>585</td>\n",
       "      <td>-0.998867</td>\n",
       "      <td>0.360548</td>\n",
       "      <td>1.557201</td>\n",
       "      <td>1.134145</td>\n",
       "      <td>-1.111078</td>\n",
       "      <td>1.222878</td>\n",
       "      <td>0.481865</td>\n",
       "      <td>0.369804</td>\n",
       "      <td>0.497451</td>\n",
       "      <td>1.267357</td>\n",
       "      <td>...</td>\n",
       "      <td>-0.291058</td>\n",
       "      <td>-0.227565</td>\n",
       "      <td>-0.307889</td>\n",
       "      <td>-0.284137</td>\n",
       "      <td>-0.314453</td>\n",
       "      <td>-0.355239</td>\n",
       "      <td>-0.355239</td>\n",
       "      <td>-0.311182</td>\n",
       "      <td>-0.692748</td>\n",
       "      <td>0.692748</td>\n",
       "    </tr>\n",
       "    <tr>\n",
       "      <td>586</td>\n",
       "      <td>-0.212326</td>\n",
       "      <td>-0.790469</td>\n",
       "      <td>0.308240</td>\n",
       "      <td>-0.343756</td>\n",
       "      <td>0.565409</td>\n",
       "      <td>1.756021</td>\n",
       "      <td>-0.767112</td>\n",
       "      <td>-0.504953</td>\n",
       "      <td>-0.307490</td>\n",
       "      <td>-0.789043</td>\n",
       "      <td>...</td>\n",
       "      <td>-0.291058</td>\n",
       "      <td>-0.227565</td>\n",
       "      <td>-0.307889</td>\n",
       "      <td>-0.284137</td>\n",
       "      <td>-0.314453</td>\n",
       "      <td>-0.355239</td>\n",
       "      <td>-0.355239</td>\n",
       "      <td>-0.311182</td>\n",
       "      <td>-0.692748</td>\n",
       "      <td>0.692748</td>\n",
       "    </tr>\n",
       "    <tr>\n",
       "      <td>587</td>\n",
       "      <td>0.574215</td>\n",
       "      <td>0.648302</td>\n",
       "      <td>0.308240</td>\n",
       "      <td>0.711888</td>\n",
       "      <td>-0.299874</td>\n",
       "      <td>-1.442834</td>\n",
       "      <td>0.679072</td>\n",
       "      <td>0.369804</td>\n",
       "      <td>-1.112431</td>\n",
       "      <td>-0.789043</td>\n",
       "      <td>...</td>\n",
       "      <td>-0.291058</td>\n",
       "      <td>-0.227565</td>\n",
       "      <td>-0.307889</td>\n",
       "      <td>-0.284137</td>\n",
       "      <td>-0.314453</td>\n",
       "      <td>-0.355239</td>\n",
       "      <td>-0.355239</td>\n",
       "      <td>3.213553</td>\n",
       "      <td>-0.692748</td>\n",
       "      <td>0.692748</td>\n",
       "    </tr>\n",
       "    <tr>\n",
       "      <td>588</td>\n",
       "      <td>0.574215</td>\n",
       "      <td>1.223811</td>\n",
       "      <td>-0.940721</td>\n",
       "      <td>0.078501</td>\n",
       "      <td>0.781730</td>\n",
       "      <td>-0.909691</td>\n",
       "      <td>1.148612</td>\n",
       "      <td>1.244560</td>\n",
       "      <td>-1.112431</td>\n",
       "      <td>-0.789043</td>\n",
       "      <td>...</td>\n",
       "      <td>-0.291058</td>\n",
       "      <td>-0.227565</td>\n",
       "      <td>-0.307889</td>\n",
       "      <td>-0.284137</td>\n",
       "      <td>-0.314453</td>\n",
       "      <td>2.815003</td>\n",
       "      <td>-0.355239</td>\n",
       "      <td>-0.311182</td>\n",
       "      <td>-0.692748</td>\n",
       "      <td>0.692748</td>\n",
       "    </tr>\n",
       "  </tbody>\n",
       "</table>\n",
       "<p>589 rows × 37 columns</p>\n",
       "</div>"
      ],
      "text/plain": [
       "         year     month       day      hour    minute   weekday  dayofyear  \\\n",
       "0   -0.998867  0.360548  0.308240 -0.132628 -1.219239 -0.909691   0.378566   \n",
       "1   -0.212326 -1.365978 -1.735514  0.289630  0.565409  1.756021  -1.490205   \n",
       "2   -1.785408 -0.502715 -0.940721 -1.821658  0.457249 -0.376549  -0.588687   \n",
       "3    1.360756 -1.078224 -0.373011 -0.977143  1.214372 -1.442834  -1.114572   \n",
       "4    0.574215  0.360548  0.194698  0.500759 -0.732516  0.156594   0.378566   \n",
       "..        ...       ...       ...       ...       ...       ...        ...   \n",
       "584 -0.998867 -1.653732  0.535324 -0.132628  0.078687 -0.909691  -1.593503   \n",
       "585 -0.998867  0.360548  1.557201  1.134145 -1.111078  1.222878   0.481865   \n",
       "586 -0.212326 -0.790469  0.308240 -0.343756  0.565409  1.756021  -0.767112   \n",
       "587  0.574215  0.648302  0.308240  0.711888 -0.299874 -1.442834   0.679072   \n",
       "588  0.574215  1.223811 -0.940721  0.078501  0.781730 -0.909691   1.148612   \n",
       "\n",
       "      quarter  year_vote  John Dramani Mahama  ...   January      July  \\\n",
       "0    0.369804   0.497451            -0.789043  ... -0.291058 -0.227565   \n",
       "1   -1.379709  -0.307490            -0.789043  ... -0.291058 -0.227565   \n",
       "2   -0.504953   1.302391             1.267357  ... -0.291058 -0.227565   \n",
       "3   -1.379709   1.302391             1.267357  ... -0.291058 -0.227565   \n",
       "4    0.369804  -1.112431            -0.789043  ... -0.291058 -0.227565   \n",
       "..        ...        ...                  ...  ...       ...       ...   \n",
       "584 -1.379709   0.497451             1.267357  ...  3.435746 -0.227565   \n",
       "585  0.369804   0.497451             1.267357  ... -0.291058 -0.227565   \n",
       "586 -0.504953  -0.307490            -0.789043  ... -0.291058 -0.227565   \n",
       "587  0.369804  -1.112431            -0.789043  ... -0.291058 -0.227565   \n",
       "588  1.244560  -1.112431            -0.789043  ... -0.291058 -0.227565   \n",
       "\n",
       "         June     March       May  November   October  September        AM  \\\n",
       "0   -0.307889 -0.284137 -0.314453 -0.355239 -0.355239  -0.311182 -0.692748   \n",
       "1   -0.307889 -0.284137 -0.314453 -0.355239 -0.355239  -0.311182 -0.692748   \n",
       "2   -0.307889 -0.284137  3.180127 -0.355239 -0.355239  -0.311182  1.443527   \n",
       "3   -0.307889  3.519427 -0.314453 -0.355239 -0.355239  -0.311182  1.443527   \n",
       "4   -0.307889 -0.284137 -0.314453 -0.355239 -0.355239  -0.311182 -0.692748   \n",
       "..        ...       ...       ...       ...       ...        ...       ...   \n",
       "584 -0.307889 -0.284137 -0.314453 -0.355239 -0.355239  -0.311182 -0.692748   \n",
       "585 -0.307889 -0.284137 -0.314453 -0.355239 -0.355239  -0.311182 -0.692748   \n",
       "586 -0.307889 -0.284137 -0.314453 -0.355239 -0.355239  -0.311182 -0.692748   \n",
       "587 -0.307889 -0.284137 -0.314453 -0.355239 -0.355239   3.213553 -0.692748   \n",
       "588 -0.307889 -0.284137 -0.314453  2.815003 -0.355239  -0.311182 -0.692748   \n",
       "\n",
       "           PM  \n",
       "0    0.692748  \n",
       "1    0.692748  \n",
       "2   -1.443527  \n",
       "3   -1.443527  \n",
       "4    0.692748  \n",
       "..        ...  \n",
       "584  0.692748  \n",
       "585  0.692748  \n",
       "586  0.692748  \n",
       "587  0.692748  \n",
       "588  0.692748  \n",
       "\n",
       "[589 rows x 37 columns]"
      ]
     },
     "execution_count": 39,
     "metadata": {},
     "output_type": "execute_result"
    }
   ],
   "source": [
    "#Standardization\n",
    "ss = StandardScaler()\n",
    "X_train_scale = pd.DataFrame(ss.fit_transform(X_train),columns = X_train.columns)\n",
    "X_test_scale = pd.DataFrame(ss.fit_transform(X_test),columns = X_test.columns)\n",
    "X_train_scale\n",
    "X_test_scale"
   ]
  },
  {
   "cell_type": "markdown",
   "metadata": {},
   "source": [
    "## Removing Contast Features "
   ]
  },
  {
   "cell_type": "code",
   "execution_count": 40,
   "metadata": {},
   "outputs": [
    {
     "data": {
      "text/plain": [
       "VarianceThreshold(threshold=0.0)"
      ]
     },
     "execution_count": 40,
     "metadata": {},
     "output_type": "execute_result"
    }
   ],
   "source": [
    "constant_filter = VarianceThreshold(threshold=0.0)\n",
    "constant_filter.fit(X_train)"
   ]
  },
  {
   "cell_type": "code",
   "execution_count": 41,
   "metadata": {},
   "outputs": [
    {
     "data": {
      "text/plain": [
       "37"
      ]
     },
     "execution_count": 41,
     "metadata": {},
     "output_type": "execute_result"
    }
   ],
   "source": [
    "constant_filter.get_support().sum()"
   ]
  },
  {
   "cell_type": "code",
   "execution_count": 42,
   "metadata": {},
   "outputs": [
    {
     "data": {
      "text/plain": [
       "[False,\n",
       " False,\n",
       " False,\n",
       " False,\n",
       " False,\n",
       " False,\n",
       " False,\n",
       " False,\n",
       " False,\n",
       " False,\n",
       " False,\n",
       " False,\n",
       " False,\n",
       " False,\n",
       " False,\n",
       " False,\n",
       " False,\n",
       " False,\n",
       " False,\n",
       " False,\n",
       " False,\n",
       " False,\n",
       " False,\n",
       " False,\n",
       " False,\n",
       " False,\n",
       " False,\n",
       " False,\n",
       " False,\n",
       " False,\n",
       " False,\n",
       " False,\n",
       " False,\n",
       " False,\n",
       " False,\n",
       " False,\n",
       " False]"
      ]
     },
     "execution_count": 42,
     "metadata": {},
     "output_type": "execute_result"
    }
   ],
   "source": [
    "constant_list = [not temp for temp in constant_filter.get_support()]\n",
    "constant_list"
   ]
  },
  {
   "cell_type": "code",
   "execution_count": 43,
   "metadata": {},
   "outputs": [
    {
     "data": {
      "text/plain": [
       "Index([], dtype='object')"
      ]
     },
     "execution_count": 43,
     "metadata": {},
     "output_type": "execute_result"
    }
   ],
   "source": [
    "X.columns[constant_list]"
   ]
  },
  {
   "cell_type": "code",
   "execution_count": 44,
   "metadata": {},
   "outputs": [],
   "source": [
    "X_train_filter = constant_filter.transform(X_train)\n",
    "X_test_filter = constant_filter.transform(X_test)"
   ]
  },
  {
   "cell_type": "code",
   "execution_count": 45,
   "metadata": {},
   "outputs": [
    {
     "data": {
      "text/plain": [
       "((2352, 37), (589, 37), (2352, 37))"
      ]
     },
     "execution_count": 45,
     "metadata": {},
     "output_type": "execute_result"
    }
   ],
   "source": [
    "X_train_filter.shape, X_test_filter.shape, X_train.shape"
   ]
  },
  {
   "cell_type": "markdown",
   "metadata": {},
   "source": [
    "## Removal of Quasi constant features "
   ]
  },
  {
   "cell_type": "code",
   "execution_count": 46,
   "metadata": {},
   "outputs": [
    {
     "data": {
      "text/plain": [
       "VarianceThreshold(threshold=0.01)"
      ]
     },
     "execution_count": 46,
     "metadata": {},
     "output_type": "execute_result"
    }
   ],
   "source": [
    "quasi_constant_filter = VarianceThreshold(threshold=0.01)\n",
    "quasi_constant_filter.fit(X_train_filter)"
   ]
  },
  {
   "cell_type": "code",
   "execution_count": 47,
   "metadata": {},
   "outputs": [
    {
     "data": {
      "text/plain": [
       "36"
      ]
     },
     "execution_count": 47,
     "metadata": {},
     "output_type": "execute_result"
    }
   ],
   "source": [
    "quasi_constant_filter.get_support().sum()"
   ]
  },
  {
   "cell_type": "code",
   "execution_count": 48,
   "metadata": {},
   "outputs": [],
   "source": [
    "X_train_quasi_filter = quasi_constant_filter.transform(X_train_filter)\n",
    "X_test_quasi_filter = quasi_constant_filter.transform(X_test_filter)"
   ]
  },
  {
   "cell_type": "code",
   "execution_count": 49,
   "metadata": {
    "scrolled": true
   },
   "outputs": [
    {
     "data": {
      "text/plain": [
       "((2352, 36), (589, 36))"
      ]
     },
     "execution_count": 49,
     "metadata": {},
     "output_type": "execute_result"
    }
   ],
   "source": [
    "X_train_quasi_filter.shape, X_test_quasi_filter.shape"
   ]
  },
  {
   "cell_type": "markdown",
   "metadata": {},
   "source": [
    "## Removing Duplicated Features "
   ]
  },
  {
   "cell_type": "code",
   "execution_count": 50,
   "metadata": {},
   "outputs": [],
   "source": [
    "X_train_T = X_train_quasi_filter.T\n",
    "X_test_T = X_test_quasi_filter.T"
   ]
  },
  {
   "cell_type": "code",
   "execution_count": 51,
   "metadata": {},
   "outputs": [
    {
     "data": {
      "text/plain": [
       "numpy.ndarray"
      ]
     },
     "execution_count": 51,
     "metadata": {},
     "output_type": "execute_result"
    }
   ],
   "source": [
    "type(X_train_T)"
   ]
  },
  {
   "cell_type": "code",
   "execution_count": 52,
   "metadata": {},
   "outputs": [],
   "source": [
    "X_train_T = pd.DataFrame(X_train.T)\n",
    "X_test_T = pd.DataFrame(X_test.T)"
   ]
  },
  {
   "cell_type": "code",
   "execution_count": 53,
   "metadata": {},
   "outputs": [
    {
     "data": {
      "text/plain": [
       "((37, 2352), (37, 589))"
      ]
     },
     "execution_count": 53,
     "metadata": {},
     "output_type": "execute_result"
    }
   ],
   "source": [
    "X_train_T.shape, X_test_T.shape"
   ]
  },
  {
   "cell_type": "code",
   "execution_count": 54,
   "metadata": {},
   "outputs": [
    {
     "data": {
      "text/plain": [
       "0"
      ]
     },
     "execution_count": 54,
     "metadata": {},
     "output_type": "execute_result"
    }
   ],
   "source": [
    "X_train_T.duplicated().sum()"
   ]
  },
  {
   "cell_type": "code",
   "execution_count": 55,
   "metadata": {},
   "outputs": [
    {
     "data": {
      "text/plain": [
       "year                           False\n",
       "month                          False\n",
       "day                            False\n",
       "hour                           False\n",
       "minute                         False\n",
       "weekday                        False\n",
       "dayofyear                      False\n",
       "quarter                        False\n",
       "year_vote                      False\n",
       "John Dramani Mahama            False\n",
       "Nana Addo Dankwa Akufo-Addo    False\n",
       "event                          False\n",
       "link                           False\n",
       "photo                          False\n",
       "status                         False\n",
       "video                          False\n",
       "Friday                         False\n",
       "Monday                         False\n",
       "Saturday                       False\n",
       "Sunday                         False\n",
       "Thursday                       False\n",
       "Tuesday                        False\n",
       "Wednesday                      False\n",
       "April                          False\n",
       "August                         False\n",
       "December                       False\n",
       "February                       False\n",
       "January                        False\n",
       "July                           False\n",
       "June                           False\n",
       "March                          False\n",
       "May                            False\n",
       "November                       False\n",
       "October                        False\n",
       "September                      False\n",
       "AM                             False\n",
       "PM                             False\n",
       "dtype: bool"
      ]
     },
     "execution_count": 55,
     "metadata": {},
     "output_type": "execute_result"
    }
   ],
   "source": [
    "duplicated_features = X_train_T.duplicated()\n",
    "duplicated_features"
   ]
  },
  {
   "cell_type": "code",
   "execution_count": 56,
   "metadata": {},
   "outputs": [],
   "source": [
    "features_to_keep = [not index for index in duplicated_features]"
   ]
  },
  {
   "cell_type": "code",
   "execution_count": 57,
   "metadata": {},
   "outputs": [],
   "source": [
    "X_train_unique = X_train_T[features_to_keep].T\n",
    "X_test_unique = X_test_T[features_to_keep].T"
   ]
  },
  {
   "cell_type": "code",
   "execution_count": 58,
   "metadata": {},
   "outputs": [
    {
     "data": {
      "text/plain": [
       "((2352, 37), (589, 37))"
      ]
     },
     "execution_count": 58,
     "metadata": {},
     "output_type": "execute_result"
    }
   ],
   "source": [
    "X_train_unique.shape, X_test_unique.shape"
   ]
  },
  {
   "cell_type": "code",
   "execution_count": 69,
   "metadata": {},
   "outputs": [],
   "source": [
    "scaler = StandardScaler().fit(X_train_unique)\n",
    "X_train_unique = scaler.transform(X_train_unique)\n",
    "X_test_unique = scaler.transform(X_test_unique)"
   ]
  },
  {
   "cell_type": "code",
   "execution_count": 70,
   "metadata": {},
   "outputs": [],
   "source": [
    "X_train_unique = pd.DataFrame(X_train_unique)\n",
    "X_test_unique = pd.DataFrame(X_test_unique)"
   ]
  },
  {
   "cell_type": "code",
   "execution_count": 71,
   "metadata": {},
   "outputs": [
    {
     "data": {
      "text/plain": [
       "((2352, 37), (589, 37))"
      ]
     },
     "execution_count": 71,
     "metadata": {},
     "output_type": "execute_result"
    }
   ],
   "source": [
    "X_train_unique.shape, X_test_unique.shape"
   ]
  },
  {
   "cell_type": "code",
   "execution_count": null,
   "metadata": {},
   "outputs": [],
   "source": []
  },
  {
   "cell_type": "markdown",
   "metadata": {},
   "source": [
    "## Applying Classification Models "
   ]
  },
  {
   "cell_type": "markdown",
   "metadata": {},
   "source": [
    "## Decision Tree Classifier "
   ]
  },
  {
   "cell_type": "code",
   "execution_count": 59,
   "metadata": {},
   "outputs": [
    {
     "name": "stdout",
     "output_type": "stream",
     "text": [
      "              precision    recall  f1-score   support\n",
      "\n",
      "           0       0.70      0.79      0.74       295\n",
      "           1       0.76      0.66      0.71       294\n",
      "\n",
      "    accuracy                           0.72       589\n",
      "   macro avg       0.73      0.72      0.72       589\n",
      "weighted avg       0.73      0.72      0.72       589\n",
      "\n",
      "0.7249575551782682\n",
      "[[233  62]\n",
      " [100 194]]\n",
      "precision =  0.7578125 \n",
      " recall =  0.6598639455782312\n"
     ]
    },
    {
     "data": {
      "image/png": "[encoded data removed]",
      "text/plain": [
       "<Figure size 576x396 with 1 Axes>"
      ]
     },
     "metadata": {},
     "output_type": "display_data"
    },
    {
     "data": {
      "image/png": "[encoded data removed]",
      "text/plain": [
       "<Figure size 576x396 with 1 Axes>"
      ]
     },
     "metadata": {},
     "output_type": "display_data"
    },
    {
     "name": "stdout",
     "output_type": "stream",
     "text": [
      "Wall time: 971 ms\n"
     ]
    },
    {
     "data": {
      "text/plain": [
       "<matplotlib.axes._subplots.AxesSubplot at 0x1dd1a027888>"
      ]
     },
     "execution_count": 59,
     "metadata": {},
     "output_type": "execute_result"
    }
   ],
   "source": [
    "%%time\n",
    "\n",
    "dtree = DecisionTreeClassifier()\n",
    "dtree.fit(X_train,y_train)\n",
    "\n",
    "pred = dtree.predict(X_test)\n",
    "print(classification_report(y_test,pred))\n",
    "print (accuracy_score(y_test,pred))\n",
    "print (confusion_matrix(y_test,pred))\n",
    "\n",
    "precision = precision_score(y_test,pred)\n",
    "recall = recall_score(y_test,pred)\n",
    "print( 'precision = ', precision, '\\n', 'recall = ', recall)\n",
    "\n",
    "y_pred_proba = dtree.predict_proba(X_test)[::,1]\n",
    "fpr, tpr, _ = roc_curve(y_test,  y_pred_proba)\n",
    "auc = roc_auc_score(y_test, y_pred_proba)\n",
    "plt.plot(fpr,tpr,label=\"data 1, auc=\"+str(auc))\n",
    "plt.legend(loc=4)\n",
    "plt.show()\n",
    "\n",
    "#impFeatures = pd.DataFrame(dtree.feature_importances_ ,index=X_train.columns,columns=['Importance']).sort_values(by='Importance',ascending=False)\n",
    "#print (impFeatures)\n",
    "\n",
    "#Feature Selection for Decision Tree\n",
    "dec_tre = DecisionTreeClassifier()\n",
    "viz = FeatureImportances(dec_tre)\n",
    "viz.fit(X_train,y_train)\n",
    "viz.show()"
   ]
  },
  {
   "cell_type": "markdown",
   "metadata": {},
   "source": [
    "## Random Forest Classifier "
   ]
  },
  {
   "cell_type": "code",
   "execution_count": 60,
   "metadata": {},
   "outputs": [
    {
     "name": "stdout",
     "output_type": "stream",
     "text": [
      "              precision    recall  f1-score   support\n",
      "\n",
      "           0       0.76      0.81      0.78       295\n",
      "           1       0.79      0.75      0.77       294\n",
      "\n",
      "    accuracy                           0.78       589\n",
      "   macro avg       0.78      0.78      0.78       589\n",
      "weighted avg       0.78      0.78      0.78       589\n",
      "\n",
      "0.7775891341256367\n",
      "[[238  57]\n",
      " [ 74 220]]\n",
      "precision =  0.7942238267148014 \n",
      " recall =  0.7482993197278912\n"
     ]
    },
    {
     "data": {
      "image/png": "[encoded data removed]",
      "text/plain": [
       "<Figure size 576x396 with 1 Axes>"
      ]
     },
     "metadata": {},
     "output_type": "display_data"
    },
    {
     "data": {
      "image/png": "[encoded data removed]",
      "text/plain": [
       "<Figure size 576x396 with 1 Axes>"
      ]
     },
     "metadata": {},
     "output_type": "display_data"
    },
    {
     "name": "stdout",
     "output_type": "stream",
     "text": [
      "Wall time: 1.56 s\n"
     ]
    },
    {
     "data": {
      "text/plain": [
       "<matplotlib.axes._subplots.AxesSubplot at 0x1dd17324288>"
      ]
     },
     "execution_count": 60,
     "metadata": {},
     "output_type": "execute_result"
    }
   ],
   "source": [
    "%%time\n",
    "ran = RandomForestClassifier(n_estimators=50,random_state=0)\n",
    "ran.fit(X_train,y_train)\n",
    "\n",
    "pred = ran.predict(X_test)\n",
    "print(classification_report(y_test,pred))\n",
    "print (accuracy_score(y_test,pred))\n",
    "print (confusion_matrix(y_test,pred))\n",
    "\n",
    "precision = precision_score(y_test,pred)\n",
    "recall = recall_score(y_test,pred)\n",
    "print( 'precision = ', precision, '\\n', 'recall = ', recall)\n",
    "\n",
    "y_pred_proba = ran.predict_proba(X_test)[::,1]\n",
    "fpr, tpr, _ = roc_curve(y_test,  y_pred_proba)\n",
    "auc = roc_auc_score(y_test, y_pred_proba)\n",
    "plt.plot(fpr,tpr,label=\"data 1, auc=\"+str(auc))\n",
    "plt.legend(loc=4)\n",
    "plt.show()\n",
    "\n",
    "#Feature Selection for Random Forest\n",
    "ran_for=RandomForestClassifier()\n",
    "viz = FeatureImportances(ran_for)\n",
    "viz.fit(X_train,y_train)\n",
    "viz.show()"
   ]
  },
  {
   "cell_type": "markdown",
   "metadata": {},
   "source": [
    "## Logistic Regression Classifier "
   ]
  },
  {
   "cell_type": "code",
   "execution_count": 61,
   "metadata": {},
   "outputs": [
    {
     "name": "stdout",
     "output_type": "stream",
     "text": [
      "              precision    recall  f1-score   support\n",
      "\n",
      "           0       0.68      0.68      0.68       295\n",
      "           1       0.68      0.68      0.68       294\n",
      "\n",
      "    accuracy                           0.68       589\n",
      "   macro avg       0.68      0.68      0.68       589\n",
      "weighted avg       0.68      0.68      0.68       589\n",
      "\n",
      "0.6791171477079796\n",
      "[[200  95]\n",
      " [ 94 200]]\n",
      "precision =  0.6779661016949152 \n",
      " recall =  0.6802721088435374\n"
     ]
    },
    {
     "data": {
      "image/png": "[encoded data removed]",
      "text/plain": [
       "<Figure size 576x396 with 1 Axes>"
      ]
     },
     "metadata": {},
     "output_type": "display_data"
    },
    {
     "data": {
      "image/png": "[encoded data removed]",
      "text/plain": [
       "<Figure size 576x396 with 1 Axes>"
      ]
     },
     "metadata": {},
     "output_type": "display_data"
    },
    {
     "name": "stdout",
     "output_type": "stream",
     "text": [
      "Wall time: 1.21 s\n"
     ]
    },
    {
     "data": {
      "text/plain": [
       "<matplotlib.axes._subplots.AxesSubplot at 0x1dd1b42c288>"
      ]
     },
     "execution_count": 61,
     "metadata": {},
     "output_type": "execute_result"
    }
   ],
   "source": [
    "%%time\n",
    "log = LogisticRegression(penalty='l2', C=0.1)\n",
    "log.fit(X_train,y_train)\n",
    "\n",
    "pred = log.predict(X_test)\n",
    "print(classification_report(y_test,pred))\n",
    "print (accuracy_score(y_test,pred))\n",
    "print (confusion_matrix(y_test,pred))\n",
    "\n",
    "precision = precision_score(y_test,pred)\n",
    "recall = recall_score(y_test,pred)\n",
    "print( 'precision = ', precision, '\\n', 'recall = ', recall)\n",
    "\n",
    "y_pred_proba = log.predict_proba(X_test)[::,1]\n",
    "fpr, tpr, _ = roc_curve(y_test,  y_pred_proba)\n",
    "auc = roc_auc_score(y_test, y_pred_proba)\n",
    "plt.plot(fpr,tpr,label=\"data 1, auc=\"+str(auc))\n",
    "plt.legend(loc=4)\n",
    "plt.show()\n",
    "#impFeatures = pd.DataFrame(log.coef_[0] ,index=X_train.columns,columns=['Importance']).sort_values(by='Importance',ascending=False)\n",
    "#print (impFeatures)\n",
    "\n",
    "log_reg = LogisticRegression(multi_class=\"auto\", solver=\"liblinear\")\n",
    "viz = FeatureImportances(log_reg)\n",
    "viz.fit(X_train,y_train)\n",
    "viz.show()"
   ]
  },
  {
   "cell_type": "markdown",
   "metadata": {},
   "source": [
    "## XGBoost Classifier "
   ]
  },
  {
   "cell_type": "code",
   "execution_count": 64,
   "metadata": {},
   "outputs": [
    {
     "name": "stdout",
     "output_type": "stream",
     "text": [
      "              precision    recall  f1-score   support\n",
      "\n",
      "           0       0.79      0.78      0.79       295\n",
      "           1       0.79      0.80      0.79       294\n",
      "\n",
      "    accuracy                           0.79       589\n",
      "   macro avg       0.79      0.79      0.79       589\n",
      "weighted avg       0.79      0.79      0.79       589\n",
      "\n",
      "0.7894736842105263\n",
      "[[231  64]\n",
      " [ 60 234]]\n",
      "precision =  0.785234899328859 \n",
      " recall =  0.7959183673469388\n"
     ]
    },
    {
     "data": {
      "image/png": "[encoded data removed]",
      "text/plain": [
       "<Figure size 576x396 with 1 Axes>"
      ]
     },
     "metadata": {},
     "output_type": "display_data"
    },
    {
     "data": {
      "image/png": "[encoded data removed]",
      "text/plain": [
       "<Figure size 576x396 with 1 Axes>"
      ]
     },
     "metadata": {},
     "output_type": "display_data"
    },
    {
     "name": "stdout",
     "output_type": "stream",
     "text": [
      "Wall time: 1.41 s\n"
     ]
    }
   ],
   "source": [
    "%%time\n",
    "xgb=XGBClassifier()\n",
    "xgb=xgb.fit(X_train,y_train)\n",
    "\n",
    "pred = xgb.predict(X_test)\n",
    "print(classification_report(y_test,pred))\n",
    "print (accuracy_score(y_test,pred))\n",
    "print (confusion_matrix(y_test,pred))\n",
    "\n",
    "precision = precision_score(y_test,pred)\n",
    "recall = recall_score(y_test,pred)\n",
    "print( 'precision = ', precision, '\\n', 'recall = ', recall)\n",
    "\n",
    "y_pred_proba = xgb.predict_proba(X_test)[::,1]\n",
    "fpr, tpr, _ = roc_curve(y_test,  y_pred_proba)\n",
    "auc = roc_auc_score(y_test, y_pred_proba)\n",
    "plt.plot(fpr,tpr,label=\"data 1, auc=\"+str(auc))\n",
    "plt.legend(loc=4)\n",
    "plt.show()\n",
    "\n",
    "# plot feature importance\n",
    "plot_importance(xgb)\n",
    "plt.show()"
   ]
  },
  {
   "cell_type": "code",
   "execution_count": null,
   "metadata": {},
   "outputs": [],
   "source": []
  }
 ],
 "metadata": {
  "kernelspec": {
   "display_name": "Python 3",
   "language": "python",
   "name": "python3"
  },
  "language_info": {
   "codemirror_mode": {
    "name": "ipython",
    "version": 3
   },
   "file_extension": ".py",
   "mimetype": "text/x-python",
   "name": "python",
   "nbconvert_exporter": "python",
   "pygments_lexer": "ipython3",
   "version": "3.7.4"
  }
 },
 "nbformat": 4,
 "nbformat_minor": 2
}
